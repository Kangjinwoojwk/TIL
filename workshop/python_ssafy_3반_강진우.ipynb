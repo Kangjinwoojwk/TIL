{
 "cells": [
  {
   "cell_type": "code",
   "execution_count": 1,
   "metadata": {},
   "outputs": [
    {
     "name": "stdout",
     "output_type": "stream",
     "text": [
      "*****\n",
      "*****\n",
      "*****\n",
      "*****\n",
      "*****\n",
      "*****\n",
      "*****\n",
      "*****\n",
      "*****\n",
      "\n"
     ]
    }
   ],
   "source": [
    "n = 5\n",
    "m = 9\n",
    "print(('*'*n + '\\n')*m)"
   ]
  },
  {
   "cell_type": "code",
   "execution_count": 2,
   "metadata": {},
   "outputs": [
    {
     "name": "stdout",
     "output_type": "stream",
     "text": [
      "87.75\n"
     ]
    }
   ],
   "source": [
    "student = {\n",
    "    'python' : 80,\n",
    "    'algorithm' : 99,\n",
    "    'django' : 89,\n",
    "    'flask' : 83\n",
    "}\n",
    "sum = 0\n",
    "for value in student.values() : \n",
    "    sum += value\n",
    "sum /= len(student)\n",
    "print(sum)"
   ]
  },
  {
   "cell_type": "code",
   "execution_count": 3,
   "metadata": {},
   "outputs": [
    {
     "name": "stdout",
     "output_type": "stream",
     "text": [
      "A형은 3명입니다.\n",
      "B형은 3명입니다.\n",
      "AB형은 3명입니다.\n",
      "O형은 3명입니다.\n"
     ]
    }
   ],
   "source": [
    "blood_types = ['A', 'B', 'A', 'O', 'AB', 'AB', 'O', 'A', 'B', 'O', 'B', 'AB']\n",
    "cnt_type = {\n",
    "    'A' : 0,\n",
    "    'B' : 0,\n",
    "    'AB' : 0,\n",
    "    'O' : 0\n",
    "}\n",
    "for i in blood_types :\n",
    "    cnt_type[i] += 1\n",
    "for key, value in cnt_type.items() :\n",
    "    print(key + '형은 ' + str(value) + '명입니다.')"
   ]
  },
  {
   "cell_type": "code",
   "execution_count": 34,
   "metadata": {},
   "outputs": [
    {
     "data": {
      "text/plain": [
       "True"
      ]
     },
     "execution_count": 34,
     "metadata": {},
     "output_type": "execute_result"
    }
   ],
   "source": [
    "def Palindrome(word) :\n",
    "    word = word.replace(' ','')\n",
    "    word = word.upper()\n",
    "    start = 0\n",
    "    end = len(word) - 1\n",
    "    while start != end and start > end :\n",
    "        if word[start] != word[end]:\n",
    "            return False\n",
    "        else :\n",
    "            start += 1\n",
    "            end -= 1\n",
    "    return True\n",
    "Palindrome('A Santa is NASA')"
   ]
  }
 ],
 "metadata": {
  "kernelspec": {
   "display_name": "Python 3",
   "language": "python",
   "name": "python3"
  },
  "language_info": {
   "codemirror_mode": {
    "name": "ipython",
    "version": 3
   },
   "file_extension": ".py",
   "mimetype": "text/x-python",
   "name": "python",
   "nbconvert_exporter": "python",
   "pygments_lexer": "ipython3",
   "version": "3.6.7"
  }
 },
 "nbformat": 4,
 "nbformat_minor": 2
}
