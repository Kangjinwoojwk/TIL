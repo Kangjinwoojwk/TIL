{
 "cells": [
  {
   "cell_type": "code",
   "execution_count": 1,
   "metadata": {},
   "outputs": [
    {
     "name": "stdout",
     "output_type": "stream",
     "text": [
      "*****\n",
      "*****\n",
      "*****\n",
      "*****\n",
      "*****\n",
      "*****\n",
      "*****\n",
      "*****\n",
      "*****\n",
      "\n"
     ]
    }
   ],
   "source": [
    "n = 5\n",
    "m = 9\n",
    "print(('*'*n + '\\n')*m)"
   ]
  },
  {
   "cell_type": "code",
   "execution_count": 2,
   "metadata": {},
   "outputs": [
    {
     "name": "stdout",
     "output_type": "stream",
     "text": [
      "87.75\n"
     ]
    }
   ],
   "source": [
    "student = {\n",
    "    'python' : 80,\n",
    "    'algorithm' : 99,\n",
    "    'django' : 89,\n",
    "    'flask' : 83\n",
    "}\n",
    "sum = 0\n",
    "for value in student.values() : \n",
    "    sum += value\n",
    "sum /= len(student)\n",
    "print(sum)"
   ]
  },
  {
   "cell_type": "code",
   "execution_count": 3,
   "metadata": {},
   "outputs": [
    {
     "name": "stdout",
     "output_type": "stream",
     "text": [
      "A형은 3명입니다.\n",
      "B형은 3명입니다.\n",
      "AB형은 3명입니다.\n",
      "O형은 3명입니다.\n"
     ]
    }
   ],
   "source": [
    "blood_types = ['A', 'B', 'A', 'O', 'AB', 'AB', 'O', 'A', 'B', 'O', 'B', 'AB']\n",
    "cnt_type = {\n",
    "    'A' : 0,\n",
    "    'B' : 0,\n",
    "    'AB' : 0,\n",
    "    'O' : 0\n",
    "}\n",
    "for i in blood_types :\n",
    "    cnt_type[i] += 1\n",
    "for key, value in cnt_type.items() :\n",
    "    print(key + '형은 ' + str(value) + '명입니다.')"
   ]
  },
  {
   "cell_type": "code",
   "execution_count": 34,
   "metadata": {},
   "outputs": [
    {
     "data": {
      "text/plain": [
       "True"
      ]
     },
     "execution_count": 34,
     "metadata": {},
     "output_type": "execute_result"
    }
   ],
   "source": [
    "def Palindrome(word) :\n",
    "    word = word.replace(' ','')\n",
    "    word = word.upper()\n",
    "    start = 0\n",
    "    end = len(word) - 1\n",
    "    while start != end and start > end :\n",
    "        if word[start] != word[end]:\n",
    "            return False\n",
    "        else :\n",
    "            start += 1\n",
    "            end -= 1\n",
    "    return True\n",
    "Palindrome('A Santa is NASA')"
   ]
  },
  {
   "cell_type": "code",
   "execution_count": 10,
   "metadata": {},
   "outputs": [
    {
     "data": {
      "text/plain": [
       "3.1623"
      ]
     },
     "execution_count": 10,
     "metadata": {},
     "output_type": "execute_result"
    }
   ],
   "source": [
    "#06 workshop\n",
    "def bisection_sqrt(n, down = 1.0, up = 100.0 ) :\n",
    "    \n",
    "    \n",
    "    if n < up :\n",
    "        up = n\n",
    "    middle = (down + up) / 2\n",
    "    if abs(middle ** 2 - n)<1e-5 :\n",
    "        return round(middle,4)\n",
    "    if middle ** 2 > n : \n",
    "        return bisection_sqrt(n, down, middle)\n",
    "    else :\n",
    "        return bisection_sqrt(n, middle, up)\n",
    "bisection_sqrt(10)"
   ]
  },
  {
   "cell_type": "code",
   "execution_count": 4,
   "metadata": {},
   "outputs": [
    {
     "name": "stdout",
     "output_type": "stream",
     "text": [
      "28.259999999999998\n",
      "18.84\n",
      "(2, 4)\n"
     ]
    }
   ],
   "source": [
    "#07 workshop\n",
    "class Circle():\n",
    "    pi = 3.14\n",
    "    x = 0\n",
    "    y = 0\n",
    "    r = 0\n",
    "    \n",
    "    def area(self):\n",
    "        return self.pi * self.r * self.r\n",
    "    \n",
    "    def circumference(self):\n",
    "        return 2 * self.pi * self.r\n",
    "    \n",
    "    def center(self):\n",
    "        return (self.x, self.y)\n",
    "    \n",
    "    def move(self, x, y):\n",
    "        self.x = x\n",
    "        self.y = y\n",
    "        \n",
    "cir = Circle()\n",
    "cir.r = 3\n",
    "cir.move(2, 4)\n",
    "print(cir.area())\n",
    "print(cir.circumference())\n",
    "print(cir.center())"
   ]
  },
  {
   "cell_type": "code",
   "execution_count": 2,
   "metadata": {
    "scrolled": true
   },
   "outputs": [
    {
     "ename": "NameError",
     "evalue": "name 'app' is not defined",
     "output_type": "error",
     "traceback": [
      "\u001b[1;31m---------------------------------------------------------------------------\u001b[0m",
      "\u001b[1;31mNameError\u001b[0m                                 Traceback (most recent call last)",
      "\u001b[1;32m<ipython-input-2-cd5b5924a2a2>\u001b[0m in \u001b[0;36m<module>\u001b[1;34m\u001b[0m\n\u001b[0;32m      1\u001b[0m \u001b[1;33m\u001b[0m\u001b[0m\n\u001b[1;32m----> 2\u001b[1;33m \u001b[1;33m@\u001b[0m\u001b[0mapp\u001b[0m\u001b[1;33m.\u001b[0m\u001b[0mroute\u001b[0m\u001b[1;33m(\u001b[0m\u001b[1;34m'/dictionary/<string:word>'\u001b[0m\u001b[1;33m)\u001b[0m\u001b[1;33m\u001b[0m\u001b[1;33m\u001b[0m\u001b[0m\n\u001b[0m\u001b[0;32m      3\u001b[0m \u001b[1;32mdef\u001b[0m \u001b[0mdictionary\u001b[0m\u001b[1;33m(\u001b[0m\u001b[0mword\u001b[0m\u001b[1;33m)\u001b[0m\u001b[1;33m:\u001b[0m\u001b[1;33m\u001b[0m\u001b[1;33m\u001b[0m\u001b[0m\n\u001b[0;32m      4\u001b[0m     my_dictionary = {\n\u001b[0;32m      5\u001b[0m         \u001b[1;34m'apple'\u001b[0m\u001b[1;33m:\u001b[0m\u001b[1;34m'사과'\u001b[0m\u001b[1;33m\u001b[0m\u001b[1;33m\u001b[0m\u001b[0m\n",
      "\u001b[1;31mNameError\u001b[0m: name 'app' is not defined"
     ]
    }
   ],
   "source": [
    "#08 workshop\n",
    "@app.route('/dictionary/<string:word>')\n",
    "def dictionary(word):\n",
    "    my_dictionary = {\n",
    "        'apple':'사과'\n",
    "    }\n",
    "    if word in my_dictionary:\n",
    "        mean = my_dictionary[word]\n",
    "        return (f'{word}은(는) {maen}!')\n",
    "    else:\n",
    "        return (f'{word}은(는) 나만의 단어장에 없는 단어입니다!')"
   ]
  },
  {
   "cell_type": "markdown",
   "metadata": {},
   "source": [
    "# 09 workshop\n",
    "\n",
    "<a href=\"https://ssafy.com/\" target=\"_blank\">ssafy</a>\n",
    "\n",
    "src가 없습니다.\n",
    "\n",
    "<a href=\"../image/my_photo.jpg\">내 사진></a>"
   ]
  },
  {
   "cell_type": "markdown",
   "metadata": {},
   "source": [
    "# 15 workshop\n",
    "\n",
    "CREATE TABLE bands(\n",
    "id INTEGER,\n",
    "name TEXT,\n",
    "debut INTEGER);\n",
    "\n",
    "\n",
    "INSERT INTO bands (id, name, debut)\n",
    "VALUES\n",
    "(1, 'Queen', '1973'),\n",
    "(2, 'Coldplay', '1998'),\n",
    "(3, 'MCR', '2001');\n",
    "\n",
    "\n",
    "SELECT id, name FROM bands\n",
    "\n",
    "\n",
    "SELECT name FROM bands WHERE debut<2000;"
   ]
  }
 ],
 "metadata": {
  "kernelspec": {
   "display_name": "Python 3",
   "language": "python",
   "name": "python3"
  },
  "language_info": {
   "codemirror_mode": {
    "name": "ipython",
    "version": 3
   },
   "file_extension": ".py",
   "mimetype": "text/x-python",
   "name": "python",
   "nbconvert_exporter": "python",
   "pygments_lexer": "ipython3",
   "version": "3.6.7"
  }
 },
 "nbformat": 4,
 "nbformat_minor": 2
}
