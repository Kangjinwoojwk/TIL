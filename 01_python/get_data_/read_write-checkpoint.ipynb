{
 "cells": [
  {
   "cell_type": "code",
   "execution_count": 1,
   "metadata": {},
   "outputs": [],
   "source": [
    "import csv"
   ]
  },
  {
   "cell_type": "code",
   "execution_count": 14,
   "metadata": {},
   "outputs": [],
   "source": [
    "f_w = open('ss3.csv','w+',encoding='utf-8',newline='')\n",
    "writer = csv.writer(f_w)\n",
    "for i in range(7):\n",
    "    writer.writerow(\n",
    "        [i,i,i,i]\n",
    "    )\n",
    "f_w.close()"
   ]
  },
  {
   "cell_type": "code",
   "execution_count": 15,
   "metadata": {},
   "outputs": [
    {
     "name": "stdout",
     "output_type": "stream",
     "text": [
      "<class 'list'> ['0', '0', '0', '0']\n",
      "<class 'list'> ['1', '1', '1', '1']\n",
      "<class 'list'> ['2', '2', '2', '2']\n",
      "<class 'list'> ['3', '3', '3', '3']\n",
      "<class 'list'> ['4', '4', '4', '4']\n",
      "<class 'list'> ['5', '5', '5', '5']\n",
      "<class 'list'> ['6', '6', '6', '6']\n"
     ]
    }
   ],
   "source": [
    "f_r = open('ss3.csv','r',encoding='utf-8', newline='')\n",
    "reader = csv.reader(f_r)\n",
    "for line in reader:\n",
    "    print(type(line),line)\n",
    "f_r.close()"
   ]
  }
 ],
 "metadata": {
  "kernelspec": {
   "display_name": "Python 3",
   "language": "python",
   "name": "python3"
  },
  "language_info": {
   "codemirror_mode": {
    "name": "ipython",
    "version": 3
   },
   "file_extension": ".py",
   "mimetype": "text/x-python",
   "name": "python",
   "nbconvert_exporter": "python",
   "pygments_lexer": "ipython3",
   "version": "3.6.7"
  }
 },
 "nbformat": 4,
 "nbformat_minor": 2
}
