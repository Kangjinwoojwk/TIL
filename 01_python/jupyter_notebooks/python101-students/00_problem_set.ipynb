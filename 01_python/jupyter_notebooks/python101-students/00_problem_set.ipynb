{
 "cells": [
  {
   "cell_type": "markdown",
   "metadata": {},
   "source": [
    "# Problem set"
   ]
  },
  {
   "cell_type": "markdown",
   "metadata": {},
   "source": [
    "## 190108"
   ]
  },
  {
   "cell_type": "markdown",
   "metadata": {},
   "source": [
    "## 1. 이상한 덧셈\n",
    "> 숫자로 구성된 리스트에서 양의 정수의 합을 구하는 함수, 'positive_sum'을 만들어 보아요\n",
    "\n",
    "예시)\n",
    "```python\n",
    "positive_sum([1, -10, 2]) #3\n",
    "positive_sum([-1, -2, -3, -4]) #0\n",
    "```"
   ]
  },
  {
   "cell_type": "code",
   "execution_count": 2,
   "metadata": {},
   "outputs": [
    {
     "data": {
      "text/plain": [
       "3"
      ]
     },
     "execution_count": 2,
     "metadata": {},
     "output_type": "execute_result"
    }
   ],
   "source": [
    "def positive_sum(num) :\n",
    "    result = 0\n",
    "    for n in num :\n",
    "        if n > 0 :\n",
    "            result += n\n",
    "    return result\n",
    "positive_sum([1, -10, 2])"
   ]
  },
  {
   "cell_type": "code",
   "execution_count": 5,
   "metadata": {},
   "outputs": [
    {
     "name": "stdout",
     "output_type": "stream",
     "text": [
      "3\n",
      "0\n"
     ]
    }
   ],
   "source": [
    "def positive_sum1(numbers) :\n",
    "    total = 0\n",
    "    for number in numbers :\n",
    "        if number > 0 :\n",
    "            total += number\n",
    "    return total\n",
    "def pos_sum(numbers) :\n",
    "    return sum (x for x in numbers if x > 0)\n",
    "print(positive_sum1([1, -10, 2]))\n",
    "print(positive_sum1([-1, -2, -3, -4]))"
   ]
  },
  {
   "cell_type": "markdown",
   "metadata": {},
   "source": [
    "### 2. 문자열 탐색\n",
    "> 문자열 요소로만 이루어진 리스트를 넣었을 때, 문자열의 길이가 2 이상이고 주어진 문자열의 첫 번째와 마지막 문자가 같은 문자열의 수를 세는 함수 'start_end'를 작성하세요.\n",
    "\n",
    "예시)\n",
    "```python\n",
    "start_end(['level','asdwe', 's', 'abadsfa', 'qiq']) #3\n",
    "```"
   ]
  },
  {
   "cell_type": "code",
   "execution_count": 3,
   "metadata": {},
   "outputs": [
    {
     "data": {
      "text/plain": [
       "3"
      ]
     },
     "execution_count": 3,
     "metadata": {},
     "output_type": "execute_result"
    }
   ],
   "source": [
    "def start_end(chk_list) :\n",
    "    result = 0\n",
    "    for string in chk_list :\n",
    "        if len(string) > 1 :\n",
    "            if string[0] == string[-1] :\n",
    "                result += 1\n",
    "    return result\n",
    "start_end(['level','asdwe', 's', 'abadsfa', 'qiq'])"
   ]
  },
  {
   "cell_type": "code",
   "execution_count": null,
   "metadata": {},
   "outputs": [],
   "source": [
    "def start_end1(words) :\n",
    "    count = 0\n",
    "    for word in words :\n",
    "        if len(word) > 1 and word[0] == word[-1]:\n",
    "            count += 1\n",
    "    return count"
   ]
  },
  {
   "cell_type": "markdown",
   "metadata": {},
   "source": [
    "### 3. Collatz\n",
    ">Colatz 추측: 어떤 자연수던지, 다음과 같은 작업을 반복하면 1로 만들 수 있다.\n",
    "\n",
    "1. n이 짝수라면 2로 나눈다.\n",
    "2. n이 홀수라면 3을 곱하고 1을 더한다.\n",
    "3. 결과로 나온 수에 1 / 2의 작업을 1이 될 때까지 반복한다.\n",
    "\n",
    ">예를 들어 n이 6이면 6=> 3=> 10=>5=>16=>8=>4=>2=>1이 되며 8번(=>갯수!)만에 1이 됩니다. 자연수 n이 들어왔을 때, 몇 번 의 작업만에 1이 되는지를 `return`하는 함수 `collatz()`를 완성하세요\n",
    "\n",
    ">단! 500번을 넘어가도 1이 되지 않는다면 -1을 `return`할게요!\n",
    "\n",
    "예시)\n",
    "```python\n",
    "collatz(6) #8\n",
    "collatz(16) #4\n",
    "collatz(6263313) #-1\n",
    "```"
   ]
  },
  {
   "cell_type": "code",
   "execution_count": null,
   "metadata": {},
   "outputs": [],
   "source": [
    "def collatz(n, result = 0) : \n",
    "    if n == 1 :\n",
    "        return result\n",
    "    elif result > 500 :\n",
    "        return -1\n",
    "    else :\n",
    "        if n % 2 == 0 :\n",
    "            return collatz(int(n / 2), result + 1)\n",
    "        else :\n",
    "            return collatz(n * 3 + 1, result + 1)\n",
    "def find(n):\n",
    "    result = []\n",
    "    i = 1\n",
    "    cnt = 0\n",
    "    while True :\n",
    "        if collatz(i) == -1 :\n",
    "            result += [i]\n",
    "        i += 1\n",
    "        if(cnt == n):\n",
    "            return result\n",
    "print(find(20))"
   ]
  },
  {
   "cell_type": "code",
   "execution_count": 11,
   "metadata": {},
   "outputs": [
    {
     "name": "stdout",
     "output_type": "stream",
     "text": [
      "8\n",
      "4\n",
      "-1\n",
      "500\n"
     ]
    }
   ],
   "source": [
    "def collatz1(num):\n",
    "    for i in range(500):\n",
    "        # num = num * 3 + 1 if num % 2 else num / 2\n",
    "        if num % 2 :\n",
    "            num = num * 3 + 1\n",
    "        else :\n",
    "            num = num / 2\n",
    "        if num == 1 :\n",
    "            return i + 1\n",
    "    return -1\n",
    "print(collatz1(6))\n",
    "print(collatz1(16))\n",
    "print(collatz1(626331))\n",
    "print(collatz1(2 ** 500))"
   ]
  },
  {
   "cell_type": "markdown",
   "metadata": {},
   "source": [
    "### 4. 솔로 천국\n",
    "> 리스트가 주어질 때, 리스트의 요소 `e`는 `range(0,10)`에 포함되는 자연수 이다. 리스트에서 연속적으로 나타나는 숫자는 하나만 남기고 전부 제거하여 `return`하는 함수 `lonely()`를 작성해 보세요. 이때! 제거된 후 남은 수들을 반환할 때는 리스트의 요소들이 순서를 유지해야 합니다!\n",
    "\n",
    "예시\n",
    "```python\n",
    "lonely([1, 1, 3, 3, 0, 1, 1, 3, 0, 3]) #[1, 3, 0]\n",
    "lonely([4, 4, 3, 3, 3, 4]) # [4, 3]\n",
    "```"
   ]
  },
  {
   "cell_type": "code",
   "execution_count": 13,
   "metadata": {},
   "outputs": [
    {
     "name": "stdout",
     "output_type": "stream",
     "text": [
      "[1, 3, 0]\n",
      "[4, 3]\n"
     ]
    }
   ],
   "source": [
    "def lonely(num_list) :\n",
    "    result = []\n",
    "    for i in num_list :\n",
    "        if i not in result :\n",
    "            result.append(i)\n",
    "    return result\n",
    "print(lonely([1, 1, 3, 3, 0, 1, 1, 3, 0, 3]))\n",
    "print(lonely([4, 4, 3, 3, 3, 4]))"
   ]
  },
  {
   "cell_type": "code",
   "execution_count": 11,
   "metadata": {},
   "outputs": [
    {
     "name": "stdout",
     "output_type": "stream",
     "text": [
      "[1, 3, 0]\n",
      "[4, 3]\n"
     ]
    }
   ],
   "source": [
    "def lonely1(numbers):\n",
    "    result = []\n",
    "    for number in numbers :\n",
    "        if not result or (result[-1] != number and result.count(number) == 0):\n",
    "            result.append(number)\n",
    "    return result\n",
    "print(lonely1([1, 1, 3, 3, 0, 1, 1, 3, 0, 3]))\n",
    "print(lonely1([4, 4, 3, 3, 3, 4]))"
   ]
  },
  {
   "cell_type": "markdown",
   "metadata": {},
   "source": [
    "### 5. * RGB 삼각형\n",
    "\n",
    "| BG   | RG   | BR   | RR   | GG   | BB   |\n",
    "| ---- | ---- | ---- | ---- | ---- | ---- |\n",
    "| R    | B    | G    | R    | G    | B    |\n",
    "\n",
    ">입력으로 `'R', 'G', 'B'`가 섞여있는 문자열이 들어온다. 문자열은 다음과 같이 합쳐진다. 해당 문자열을 처리하여 마지막 색깔만 `return`하는 `triangle()`을 작성하세요.\n",
    "```\n",
    "R R G B R G B B\n",
    " R B R G B R B\n",
    "  G G B R G G\n",
    "   G R G B G\n",
    "    B B R R\n",
    "     B G R\n",
    "      R B\n",
    "       G\n",
    "```\n",
    "\n",
    "예시)\n",
    "```python\n",
    "triangle('RRGBRGBB')#G\n",
    "triangle('GB')#R\n",
    "triangle('B')#B\n",
    "triangle('RGBG')#B\n",
    "```"
   ]
  },
  {
   "cell_type": "code",
   "execution_count": 3,
   "metadata": {},
   "outputs": [
    {
     "data": {
      "text/plain": [
       "'B'"
      ]
     },
     "execution_count": 3,
     "metadata": {},
     "output_type": "execute_result"
    }
   ],
   "source": [
    "def triangle(string) :\n",
    "    if(len(string)==1):\n",
    "        return string\n",
    "    RGB = ['R', 'G', 'B']\n",
    "    result = ''\n",
    "    pre = string[0]\n",
    "    i = 1\n",
    "    while i < len(string):\n",
    "        if pre == string[i] :\n",
    "            result += string[i]\n",
    "        else :\n",
    "            for rgb in RGB :\n",
    "                if rgb != pre and rgb != string[i] :\n",
    "                    result += rgb\n",
    "        i += 1\n",
    "    return triangle(result)\n",
    "triangle('B')"
   ]
  },
  {
   "cell_type": "markdown",
   "metadata": {},
   "source": [
    "### 6. (??) 홀수개를 찾아라\n",
    ">입력으로 list가 한 개 들어옵니다. 이 list에는 1개의 숫자만 홀수개 들어 있습니다. 이 1개의 홀수개인 숫자를 `return`하는 `find_odd()`를 작성하시오.\n",
    "```\n",
    "예시)\n",
    "find_odd([1, 1, 2, 2, 3, 3, 3]) # 3\n",
    "find_odd([2, 1, 2]) # 1\n",
    "find_odd([1, 2, 2, 3, 2, 2, 1]) # 3\n",
    "```"
   ]
  },
  {
   "cell_type": "code",
   "execution_count": 5,
   "metadata": {},
   "outputs": [
    {
     "data": {
      "text/plain": [
       "2"
      ]
     },
     "execution_count": 5,
     "metadata": {},
     "output_type": "execute_result"
    }
   ],
   "source": [
    "def find_odd(numbers) :\n",
    "    result = []\n",
    "    for num in numbers :\n",
    "        if num in result :\n",
    "            result.remove(num)\n",
    "        else :\n",
    "            result.append(num)\n",
    "    return result[0]\n",
    "find_odd([1, 1, 2])"
   ]
  },
  {
   "cell_type": "code",
   "execution_count": null,
   "metadata": {},
   "outputs": [],
   "source": [
    "from operator import xor\n",
    "def find_odd1(numbers):\n",
    "    for uniq in list(set(numbers)):\n",
    "        if numbers.count(uniq) %2 : \n",
    "            return uniq\n",
    "\n",
    "\n",
    "def find_odd2(numbers):\n",
    "    result = 0\n",
    "    for n in numbers :\n",
    "        result = result ^ n\n",
    "    return result\n",
    "print(find_odd1([1, 1, 2]))\n",
    "print(find_odd2([1, 1, 2]))"
   ]
  },
  {
   "cell_type": "markdown",
   "metadata": {},
   "source": [
    "[1, 2, 1]\n",
    "01\n",
    "10\n",
    "\n",
    "11\n",
    "01\n",
    "\n",
    "자기랑 xor하면 사라져, 남아 있는 것이 홀수개"
   ]
  },
  {
   "cell_type": "markdown",
   "metadata": {},
   "source": [
    "## 190109"
   ]
  },
  {
   "cell_type": "markdown",
   "metadata": {},
   "source": [
    "### 1. UP & DOWN\n",
    ">우리가 `range(1, 101)` 중 하나를 생각한다. 컴퓨터가 절반에 위치한 숫자를 물어보고 생각한 수보다 크면 1, 작으면 -1, 맞으면 0을 입력한다. 이때 몇 번만에 컴퓨터가 맞췄는지 출력하고 프로그램을 끝낸다.\n",
    "\n",
    "예시)\n",
    "```sh\n",
    "숫자를 생각하세요..\n",
    "50\n",
    ">-1\n",
    ">25\n",
    ">-1\n",
    ">13\n",
    ">-1\n",
    ">7\n",
    ">1\n",
    ">10\n",
    ">1\n",
    ">12\n",
    ">0\n",
    "6번 만에 맞혔습니다.\n",
    "```\n",
    "\n",
    "```python\n",
    "def guess_up_down():\n",
    "    print('숫자를 생각하세요...')\n",
    "    n = 100 // 2\n",
    "    print(n)\n",
    "    user_feedback = input('작으면 -1, 맞으면 0, 크면 1:')\n",
    "    user\n",
    "    ...\n",
    "```"
   ]
  },
  {
   "cell_type": "code",
   "execution_count": 1,
   "metadata": {
    "scrolled": true
   },
   "outputs": [
    {
     "name": "stdout",
     "output_type": "stream",
     "text": [
      "숫자를 생각하세요...\n",
      "50\n",
      "작으면 -1, 맞으면 0, 크면 1 :1\n",
      "75\n",
      "작으면 -1, 맞으면 0, 크면 1 :1\n",
      "88\n",
      "작으면 -1, 맞으면 0, 크면 1 :1\n",
      "94\n",
      "작으면 -1, 맞으면 0, 크면 1 :1\n",
      "97\n",
      "작으면 -1, 맞으면 0, 크면 1 :1\n",
      "99\n",
      "작으면 -1, 맞으면 0, 크면 1 :1\n",
      "100\n",
      "작으면 -1, 맞으면 0, 크면 1 :0\n",
      "7번 만에 맞혔습니다.\n"
     ]
    }
   ],
   "source": [
    "def guess_up_down(small = 0, big = 101, count = 0) :\n",
    "    if count == 0 :\n",
    "        print('숫자를 생각하세요...')\n",
    "    n = (big + small) // 2\n",
    "    print(n)\n",
    "    count += 1\n",
    "    user_feedback = int(input('작으면 -1, 맞으면 0, 크면 1 :'))\n",
    "    if user_feedback == (-1) :\n",
    "        return guess_up_down(small, n, count)\n",
    "    elif user_feedback == 1 :\n",
    "        return guess_up_down(n, big, count)\n",
    "    else :\n",
    "        return print(f'{count}번 만에 맞혔습니다.')\n",
    "guess_up_down()"
   ]
  },
  {
   "cell_type": "code",
   "execution_count": null,
   "metadata": {
    "scrolled": true
   },
   "outputs": [
    {
     "name": "stdout",
     "output_type": "stream",
     "text": [
      "숫자를 생각하세요..!\n",
      "50\n",
      "작으면 -1, 크면 1, 맞으면 0: 1\n",
      "75\n",
      "작으면 -1, 크면 1, 맞으면 0: 1\n",
      "87\n",
      "작으면 -1, 크면 1, 맞으면 0: 1\n",
      "93\n",
      "작으면 -1, 크면 1, 맞으면 0: 1\n",
      "96\n",
      "작으면 -1, 크면 1, 맞으면 0: 1\n",
      "98\n",
      "작으면 -1, 크면 1, 맞으면 0: 1\n",
      "99\n",
      "작으면 -1, 크면 1, 맞으면 0: 1\n",
      "99\n",
      "작으면 -1, 크면 1, 맞으면 0: 1\n",
      "99\n",
      "작으면 -1, 크면 1, 맞으면 0: 1\n",
      "99\n",
      "작으면 -1, 크면 1, 맞으면 0: 1\n",
      "99\n",
      "작으면 -1, 크면 1, 맞으면 0: 1\n",
      "99\n",
      "작으면 -1, 크면 1, 맞으면 0: 1\n",
      "99\n",
      "작으면 -1, 크면 1, 맞으면 0: 1\n",
      "99\n",
      "작으면 -1, 크면 1, 맞으면 0: 1\n",
      "99\n",
      "작으면 -1, 크면 1, 맞으면 0: 1\n",
      "99\n",
      "작으면 -1, 크면 1, 맞으면 0: 1\n",
      "99\n",
      "작으면 -1, 크면 1, 맞으면 0: 1\n",
      "99\n"
     ]
    }
   ],
   "source": [
    "def guess_up_down1():\n",
    "    count = 0\n",
    "    max_n, min_n = 101, 0\n",
    "    print('숫자를 생각하세요..!')\n",
    "    \n",
    "    while 1:\n",
    "        guess = (max_n + min_n) // 2\n",
    "        print(guess)\n",
    "        count += 1\n",
    "        feedback = int(input('작으면 -1, 크면 1, 맞으면 0: '))\n",
    "        if feedback == -1:\n",
    "            max_n = guess\n",
    "        elif feedback == 1:\n",
    "            min_n = guess\n",
    "        else:\n",
    "            return count\n",
    "guess_up_down1()"
   ]
  },
  {
   "cell_type": "markdown",
   "metadata": {},
   "source": [
    "### 제곱근 구하기"
   ]
  },
  {
   "cell_type": "code",
   "execution_count": 3,
   "metadata": {},
   "outputs": [
    {
     "data": {
      "text/plain": [
       "10.04988"
      ]
     },
     "execution_count": 3,
     "metadata": {},
     "output_type": "execute_result"
    }
   ],
   "source": [
    "def bisection_sqrt(n, down = 1.0, up = 2**100 ) :\n",
    "    if n < up :\n",
    "        up = n\n",
    "    middle = (down + up) / 2\n",
    "    if abs(middle ** 2 - n)<1e-6 :\n",
    "        return round(middle,5)\n",
    "    if middle ** 2 > n : \n",
    "        return bisection_sqrt(n, down, middle)\n",
    "    else :\n",
    "        return bisection_sqrt(n, middle, up)\n",
    "bisection_sqrt(101)"
   ]
  },
  {
   "cell_type": "code",
   "execution_count": 2,
   "metadata": {},
   "outputs": [
    {
     "data": {
      "text/plain": [
       "0.31623"
      ]
     },
     "execution_count": 2,
     "metadata": {},
     "output_type": "execute_result"
    }
   ],
   "source": [
    "def bisection_sqrt1(n, down = 0.0, up = 1.0 ) :\n",
    "    if (down ** 2 <= n <= up ** 2) :\n",
    "        middle = (down + up) / 2\n",
    "        if abs(middle ** 2 - n)<1e-6 :\n",
    "            return round(middle,5)\n",
    "        if middle ** 2 > n : \n",
    "            return bisection_sqrt1(n, down, middle)\n",
    "        else :\n",
    "            return bisection_sqrt1(n, middle, up)\n",
    "    else :\n",
    "        return bisection_sqrt1(n, down + 1, up + 1)\n",
    "    \n",
    "bisection_sqrt1(0.1)"
   ]
  },
  {
   "cell_type": "code",
   "execution_count": 2,
   "metadata": {},
   "outputs": [
    {
     "data": {
      "text/plain": [
       "2.23607"
      ]
     },
     "execution_count": 2,
     "metadata": {},
     "output_type": "execute_result"
    }
   ],
   "source": [
    "def my_sqrt(n):\n",
    "    minimum, maximum = 0, 1\n",
    "    while 1 :\n",
    "        if n == maximum ** 2 :\n",
    "            return maximum\n",
    "        elif minimum ** 2 < n < maximum ** 2 :\n",
    "            guess = (minimum + maximum) / 2\n",
    "            if round(minimum, 5) == round(maximum, 5):\n",
    "                return round(guess, 5)\n",
    "            elif guess ** 2 > n :\n",
    "                maximum = guess\n",
    "            else :\n",
    "                minimum = guess\n",
    "        else :\n",
    "            minimum += 1\n",
    "            maximum += 1\n",
    "my_sqrt(5)"
   ]
  },
  {
   "cell_type": "code",
   "execution_count": 6,
   "metadata": {},
   "outputs": [
    {
     "data": {
      "text/plain": [
       "1"
      ]
     },
     "execution_count": 6,
     "metadata": {},
     "output_type": "execute_result"
    }
   ],
   "source": [
    "import math\n",
    "def my_sqrt_r(n, minimum = 0, maximum = 1) :\n",
    "    if n == maximum ** 2 :\n",
    "        return maximum\n",
    "    elif minimum ** 2 < n < maximum ** 2 :\n",
    "        guess = (minimum + maximum) / 2\n",
    "        if math.isclose(minimum, maximum):\n",
    "            return guess\n",
    "        elif guess ** 2 > n:\n",
    "            return my_sqrt_r(n, minimum, guess)\n",
    "        else :\n",
    "            return my_sqrt_r(n, guess, maximum)\n",
    "    else :\n",
    "        return my_sqrt_r(n, minimum + 1, maximum + 1)\n",
    "my_sqrt_r(1)"
   ]
  },
  {
   "cell_type": "code",
   "execution_count": null,
   "metadata": {},
   "outputs": [],
   "source": [
    "n = 2\n",
    "min_n = 1\n",
    "max_n = 2\n",
    "\n",
    "min_n ** 2< n< max_n **2\n",
    "1 < n < 2\n",
    "\n",
    "guess = min_n + max_n / 2\n",
    "n > guess ** 2 2.25\n",
    "\n",
    "n < guess ** 2\n",
    "\n",
    "max_n = guess\n",
    "\n",
    "min_n ** 2 < n < max_n ** 2\n",
    "1 < n < 2.25\n",
    "1.65\n",
    "guess = 1 + 1.5 / 2 #1.25\n",
    "\n",
    "n > guess ** 2 # 1.5625\n",
    "n < guess ** 2\n",
    "\n",
    "min_n = guess\n",
    "\n",
    "---\n",
    "round(min_n, 4) == round(max_n, 4)\n"
   ]
  },
  {
   "cell_type": "markdown",
   "metadata": {},
   "source": [
    "**190110**"
   ]
  },
  {
   "cell_type": "markdown",
   "metadata": {},
   "source": [
    "### Hangman\n",
    "> 필요한 함수들!"
   ]
  },
  {
   "cell_type": "code",
   "execution_count": 5,
   "metadata": {},
   "outputs": [
    {
     "data": {
      "text/plain": [
       "False"
      ]
     },
     "execution_count": 5,
     "metadata": {},
     "output_type": "execute_result"
    }
   ],
   "source": [
    "def is_answer(answer, letters):\n",
    "    for char in set(answer) :\n",
    "        if char not in letters :\n",
    "            return False\n",
    "    return True\n",
    "    \n",
    "is_answer('apple', ['a', 'p', 'l'])#False"
   ]
  },
  {
   "cell_type": "code",
   "execution_count": 7,
   "metadata": {},
   "outputs": [
    {
     "data": {
      "text/plain": [
       "'a****'"
      ]
     },
     "execution_count": 7,
     "metadata": {},
     "output_type": "execute_result"
    }
   ],
   "source": [
    "def status(answer, letters):\n",
    "    for char in answer:\n",
    "        if char not in letters:\n",
    "            answer = answer.replace(char, '*')\n",
    "    return answer\n",
    "status('apple', ['a'])"
   ]
  },
  {
   "cell_type": "markdown",
   "metadata": {},
   "source": [
    "#### Hangman 로직만들기\n",
    ">위의 코드를 활용하여 `hangman(answer)`를 만들자! 사용자가 답을 맞추거나, 시도가 8번을 넘어가면 종료!"
   ]
  },
  {
   "cell_type": "code",
   "execution_count": null,
   "metadata": {},
   "outputs": [],
   "source": []
  },
  {
   "cell_type": "code",
   "execution_count": 4,
   "metadata": {
    "scrolled": true
   },
   "outputs": [
    {
     "name": "stdout",
     "output_type": "stream",
     "text": [
      "확인 할 것을 넣어 주세요:1\n",
      "***** 9 번 남았습니다.\n",
      "\n",
      "    |\n",
      "    |\n",
      "    |\n",
      "    |\n",
      "    |\n",
      "    |\n",
      "    \n",
      "확인 할 것을 넣어 주세요:2\n",
      "***** 8 번 남았습니다.\n",
      "\n",
      "    |--------ㄱ\n",
      "    |\n",
      "    |\n",
      "    |\n",
      "    |\n",
      "    |\n",
      "    \n",
      "확인 할 것을 넣어 주세요:3\n",
      "***** 7 번 남았습니다.\n",
      "\n",
      "    |--------ㄱ\n",
      "    |         O\n",
      "    |\n",
      "    |\n",
      "    |\n",
      "    |\n",
      "    \n",
      "확인 할 것을 넣어 주세요:4\n",
      "***** 6 번 남았습니다.\n",
      "\n",
      "    |--------ㄱ\n",
      "    |         O\n",
      "    |         |\n",
      "    |\n",
      "    |\n",
      "    |\n",
      "    \n",
      "확인 할 것을 넣어 주세요:5\n",
      "***** 5 번 남았습니다.\n",
      "\n",
      "    |--------ㄱ\n",
      "    |         O\n",
      "    |        /|\n",
      "    |\n",
      "    |\n",
      "    |\n",
      "    \n",
      "확인 할 것을 넣어 주세요:1\n",
      "you already check this alphabet\n",
      "***** 5 번 남았습니다.\n",
      "\n",
      "    |--------ㄱ\n",
      "    |         O\n",
      "    |        /|\n",
      "    |\n",
      "    |\n",
      "    |\n",
      "    \n",
      "확인 할 것을 넣어 주세요:2\n",
      "you already check this alphabet\n",
      "***** 5 번 남았습니다.\n",
      "\n",
      "    |--------ㄱ\n",
      "    |         O\n",
      "    |        /|\n",
      "    |\n",
      "    |\n",
      "    |\n",
      "    \n",
      "확인 할 것을 넣어 주세요:1\n",
      "you already check this alphabet\n",
      "***** 5 번 남았습니다.\n",
      "\n",
      "    |--------ㄱ\n",
      "    |         O\n",
      "    |        /|\n",
      "    |\n",
      "    |\n",
      "    |\n",
      "    \n",
      "확인 할 것을 넣어 주세요:12\n",
      "***** 4 번 남았습니다.\n",
      "\n",
      "    |--------ㄱ\n",
      "    |         O\n",
      "    |        /|＼\n",
      "    |\n",
      "    |\n",
      "    |\n",
      "    \n",
      "확인 할 것을 넣어 주세요:5\n",
      "you already check this alphabet\n",
      "***** 4 번 남았습니다.\n",
      "\n",
      "    |--------ㄱ\n",
      "    |         O\n",
      "    |        /|＼\n",
      "    |\n",
      "    |\n",
      "    |\n",
      "    \n",
      "확인 할 것을 넣어 주세요:45\n",
      "***** 3 번 남았습니다.\n",
      "\n",
      "    |--------ㄱ\n",
      "    |         O\n",
      "    |        /|＼\n",
      "    |         |\n",
      "    |\n",
      "    |\n",
      "    \n",
      "확인 할 것을 넣어 주세요:5\n",
      "you already check this alphabet\n",
      "***** 3 번 남았습니다.\n",
      "\n",
      "    |--------ㄱ\n",
      "    |         O\n",
      "    |        /|＼\n",
      "    |         |\n",
      "    |\n",
      "    |\n",
      "    \n",
      "확인 할 것을 넣어 주세요:6\n",
      "***** 2 번 남았습니다.\n",
      "\n",
      "    |--------ㄱ\n",
      "    |         O\n",
      "    |        /|＼\n",
      "    |         |\n",
      "    |        /\n",
      "    |\n",
      "    \n",
      "확인 할 것을 넣어 주세요:8\n",
      "***** 1 번 남았습니다.\n",
      "\n",
      "    |--------ㄱ\n",
      "    |         O\n",
      "    |        /|＼\n",
      "    |         |\n",
      "    |        / ＼\n",
      "    |\n",
      "    \n",
      "확인 할 것을 넣어 주세요:7\n",
      "***** 0 번 남았습니다.\n",
      "\n",
      "    |--------ㄱ\n",
      "    |         o\n",
      "    |        /|＼\n",
      "    |         |\n",
      "    |        / ＼\n",
      "    |\n",
      "    \n",
      "You are dead. The answer is 'apple'\n"
     ]
    }
   ],
   "source": [
    "def is_answer(answer, letters):\n",
    "    for char in set(answer) :\n",
    "        if char not in letters :\n",
    "            return False\n",
    "    return True\n",
    "def in_answer(answer, letter):\n",
    "    if letter in answer:\n",
    "        return True\n",
    "    else:\n",
    "        return False\n",
    "def status(answer, letters):\n",
    "    for char in answer:\n",
    "        if char not in letters:\n",
    "            answer = answer.replace(char, '*')\n",
    "    return answer\n",
    "def print_count(answer, letters, count):\n",
    "    print(status(answer, letters), count, '번 남았습니다.' ) \n",
    "hangman_pic = [\n",
    "    '''\n",
    "    |\n",
    "    |\n",
    "    |\n",
    "    |\n",
    "    |\n",
    "    |\n",
    "    ''',\n",
    "    '''\n",
    "    |--------ㄱ\n",
    "    |\n",
    "    |\n",
    "    |\n",
    "    |\n",
    "    |\n",
    "    ''',\n",
    "    '''\n",
    "    |--------ㄱ\n",
    "    |         O\n",
    "    |\n",
    "    |\n",
    "    |\n",
    "    |\n",
    "    ''',\n",
    "    '''\n",
    "    |--------ㄱ\n",
    "    |         O\n",
    "    |         |\n",
    "    |\n",
    "    |\n",
    "    |\n",
    "    ''',\n",
    "    '''\n",
    "    |--------ㄱ\n",
    "    |         O\n",
    "    |        /|\n",
    "    |\n",
    "    |\n",
    "    |\n",
    "    ''',\n",
    "    '''\n",
    "    |--------ㄱ\n",
    "    |         O\n",
    "    |        /|＼\n",
    "    |\n",
    "    |\n",
    "    |\n",
    "    ''',\n",
    "    '''\n",
    "    |--------ㄱ\n",
    "    |         O\n",
    "    |        /|＼\n",
    "    |         |\n",
    "    |\n",
    "    |\n",
    "    ''',\n",
    "    '''\n",
    "    |--------ㄱ\n",
    "    |         O\n",
    "    |        /|＼\n",
    "    |         |\n",
    "    |        /\n",
    "    |\n",
    "    ''',\n",
    "    '''\n",
    "    |--------ㄱ\n",
    "    |         O\n",
    "    |        /|＼\n",
    "    |         |\n",
    "    |        / ＼\n",
    "    |\n",
    "    ''',\n",
    "     '''\n",
    "    |--------ㄱ\n",
    "    |         o\n",
    "    |        /|＼\n",
    "    |         |\n",
    "    |        / ＼\n",
    "    |\n",
    "    '''\n",
    "    \n",
    "]\n",
    "\n",
    "def hangman(answer):\n",
    "    count = 10\n",
    "    chk = False\n",
    "    letters = []\n",
    "    letters_chk = []\n",
    "    while count > 0 and chk == False :\n",
    "        letter = input('확인 할 것을 넣어 주세요:')\n",
    "        if len(letter)==1:\n",
    "            if letter in letters_chk:\n",
    "                print('you already check this alphabet')\n",
    "                print_count(answer, letters, count)\n",
    "            elif in_answer(answer, letter):\n",
    "                letters += letter\n",
    "                letters_chk += letter\n",
    "                print_count(answer, letters, count)\n",
    "                if is_answer(answer, letters):\n",
    "                    chk = True\n",
    "            else:\n",
    "                letters_chk += letter\n",
    "                count -= 1\n",
    "                print_count(answer, letters, count)\n",
    "        else :\n",
    "            if answer == letter : \n",
    "                chk = True\n",
    "            else :\n",
    "                count -= 1\n",
    "                print_count(answer, letters, count)\n",
    "        print(hangman_pic[9 - count])\n",
    "\n",
    "    if chk == True :\n",
    "        print('survive')\n",
    "    elif count == 0 :\n",
    "        print(f'You are dead. The answer is \\'{answer}\\'')"
   ]
  },
  {
   "cell_type": "code",
   "execution_count": 12,
   "metadata": {},
   "outputs": [
    {
     "data": {
      "text/plain": [
       "<_io.TextIOWrapper name='voca.txt' mode='r' encoding='cp949'>"
      ]
     },
     "execution_count": 12,
     "metadata": {},
     "output_type": "execute_result"
    }
   ],
   "source": [
    "import random\n",
    "word_list = []\n",
    "result_f = open('voca.txt')\n",
    "result_f"
   ]
  },
  {
   "cell_type": "code",
   "execution_count": null,
   "metadata": {},
   "outputs": [],
   "source": [
    "def draw_hangman(n):\n",
    "    if n == 9 :\n",
    "        print('|')\n",
    "        print('|')\n",
    "        print('|')\n",
    "        print('|')\n",
    "        print('|')\n",
    "        print('|')\n",
    "    elif n == 8 :\n",
    "        print('|-------ㄱ')\n",
    "        print('|')\n",
    "        print('|')\n",
    "        print('|')\n",
    "        print('|')\n",
    "        print('|')\n",
    "    elif n == 7 :\n",
    "        print('|------ㄱ')\n",
    "        print('|       O')\n",
    "        print('|')\n",
    "        print('|')\n",
    "        print('|')\n",
    "        print('|')\n",
    "    elif n == 6 :\n",
    "        print('|------ㄱ')\n",
    "        print('|       O')\n",
    "        print('|       |')\n",
    "        print('|')\n",
    "        print('|')\n",
    "        print('|')\n",
    "    elif n == 5 :\n",
    "        print('|------ㄱ')\n",
    "        print('|       O')\n",
    "        print('|      /|')\n",
    "        print('|')\n",
    "        print('|')\n",
    "        print('|')\n",
    "    elif n == 4 :\n",
    "        print('|------ㄱ')\n",
    "        print('|       O')\n",
    "        print('|      /|＼')\n",
    "        print('|')\n",
    "        print('|')\n",
    "        print('|')\n",
    "    elif n == 3 :\n",
    "        print('|------ㄱ')\n",
    "        print('|       O')\n",
    "        print('|      /|＼')\n",
    "        print('|       |')\n",
    "        print('|')\n",
    "        print('|')\n",
    "    elif n == 2 :\n",
    "        print('|------ㄱ')\n",
    "        print('|       O')\n",
    "        print('|      /|＼')\n",
    "        print('|       |')\n",
    "        print('|      /')\n",
    "        print('|')\n",
    "    elif n == 1 :\n",
    "        print('|------ㄱ')\n",
    "        print('|       O')\n",
    "        print('|      /|＼')\n",
    "        print('|       |')\n",
    "        print('|      /＼')\n",
    "        print('|')\n",
    "    elif n == 0 :\n",
    "        print('|------ㄱ')\n",
    "        print('|       o')\n",
    "        print('|      /|＼')\n",
    "        print('|       |')\n",
    "        print('|      /＼')\n",
    "        print('|')"
   ]
  },
  {
   "cell_type": "code",
   "execution_count": 5,
   "metadata": {},
   "outputs": [
    {
     "name": "stdout",
     "output_type": "stream",
     "text": [
      "===START===\n",
      "남은 목숨:♥♥♥♥♥♥♥♥\n",
      "*****\n",
      "알파벳을 입력하세요: a\n",
      "남은 목숨:♥♥♥♥♥♥♥\n",
      "a****\n",
      "알파벳을 입력하세요: p\n",
      "남은 목숨:♥♥♥♥♥♥\n",
      "app**\n",
      "알파벳을 입력하세요: l\n",
      "남은 목숨:♥♥♥♥♥\n",
      "appl*\n",
      "알파벳을 입력하세요: e\n"
     ]
    },
    {
     "data": {
      "text/plain": [
       "'성공!'"
      ]
     },
     "execution_count": 5,
     "metadata": {},
     "output_type": "execute_result"
    }
   ],
   "source": [
    "def hangman1(answer):\n",
    "    input_letters = []\n",
    "    attempt = 8\n",
    "    print('===START===')\n",
    "    \n",
    "    while 1:\n",
    "        print('남은 목숨:' + '♥' * attempt)\n",
    "        print(status(answer, input_letters))\n",
    "        \n",
    "        guess = input('알파벳을 입력하세요: ').lower()\n",
    "        input_letters.append(guess)\n",
    "        \n",
    "        #some code\n",
    "        \n",
    "        if is_answer(answer, input_letters):\n",
    "            return '성공!'\n",
    "        else :\n",
    "            attempt -= 1\n",
    "        if not attempt :\n",
    "            return '실패'\n",
    "hangman1('apple')"
   ]
  },
  {
   "cell_type": "code",
   "execution_count": 1,
   "metadata": {},
   "outputs": [
    {
     "name": "stdout",
     "output_type": "stream",
     "text": [
      "5\n",
      "*        *\n",
      "**      **\n",
      "***    ***\n",
      "****  ****\n",
      "**********\n",
      "****  ****\n",
      "***    ***\n",
      "**      **\n",
      "*        *\n"
     ]
    }
   ],
   "source": [
    "n = int(input())\n",
    "i = 1\n",
    "while i <= n :\n",
    "    print('*' * i + ' ' * (n - i) + ' ' * (n - i) + '*' * i)\n",
    "    i += 1\n",
    "i -= 2\n",
    "while i > 0 :\n",
    "    print('*' * i + ' ' * (n - i) + ' ' * (n - i) + '*' * i)\n",
    "    i -= 1"
   ]
  }
 ],
 "metadata": {
  "kernelspec": {
   "display_name": "Python 3",
   "language": "python",
   "name": "python3"
  },
  "language_info": {
   "codemirror_mode": {
    "name": "ipython",
    "version": 3
   },
   "file_extension": ".py",
   "mimetype": "text/x-python",
   "name": "python",
   "nbconvert_exporter": "python",
   "pygments_lexer": "ipython3",
   "version": "3.6.7"
  }
 },
 "nbformat": 4,
 "nbformat_minor": 2
}
