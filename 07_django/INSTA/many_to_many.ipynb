{
 "cells": [
  {
   "cell_type": "markdown",
   "metadata": {},
   "source": [
    "# Many To Many Relation\n",
    "\n",
    "## Student\n",
    "\n",
    "| id(PK) | name      |\n",
    "| ------ | --------- |\n",
    "| INT    | Charfeild |\n",
    "\n",
    "## Enrolment\n",
    "\n",
    "| id(PK) | student_id(FK-Student) | lecture_id(FK-Lecture) |\n",
    "| ------ | ---------------------- | ---------------------- |\n",
    "| INT    | INT                    | INT                    |\n",
    "\n",
    "## Lecture\n",
    "\n",
    "| id(PK) | title     |\n",
    "| ------ | --------- |\n",
    "| INT    | Charfeild |"
   ]
  },
  {
   "cell_type": "code",
   "execution_count": 20,
   "metadata": {
    "scrolled": true
   },
   "outputs": [
    {
     "data": {
      "text/plain": [
       "4"
      ]
     },
     "execution_count": 20,
     "metadata": {},
     "output_type": "execute_result"
    }
   ],
   "source": [
    "# Student.objects.create(name='강진우')\n",
    "# Student.objects.create(name='이유림')\n",
    "# Student.objects.create(name='곽동령')\n",
    "# Student.objects.create(name='백지원')\n",
    "Student.objects.count()"
   ]
  },
  {
   "cell_type": "code",
   "execution_count": 21,
   "metadata": {},
   "outputs": [
    {
     "data": {
      "text/plain": [
       "2"
      ]
     },
     "execution_count": 21,
     "metadata": {},
     "output_type": "execute_result"
    }
   ],
   "source": [
    "# Lecture.objects.create(title='정의란 무엇인가')\n",
    "# Lecture.objects.create(title='어떻게 원하는 것을 얻는가')\n",
    "Lecture.objects.count()"
   ]
  },
  {
   "cell_type": "code",
   "execution_count": 22,
   "metadata": {},
   "outputs": [
    {
     "data": {
      "text/plain": [
       "<Enrolment: Enrolment object (9)>"
      ]
     },
     "execution_count": 22,
     "metadata": {},
     "output_type": "execute_result"
    }
   ],
   "source": [
    "# Enrolment.objects.create(student = Student.objects.get(name='강진우'), lecture = Lecture.objects.get(title='정의란 무엇인가'))\n",
    "# Enrolment.objects.create(student = Student.objects.get(name='강진우'), lecture = Lecture.objects.get(title='어떻게 원하는 것을 얻는가'))"
   ]
  },
  {
   "cell_type": "code",
   "execution_count": 23,
   "metadata": {},
   "outputs": [
    {
     "data": {
      "text/plain": [
       "<Enrolment: Enrolment object (12)>"
      ]
     },
     "execution_count": 23,
     "metadata": {},
     "output_type": "execute_result"
    }
   ],
   "source": [
    "# Enrolment.objects.create(student = Student.objects.get(name='백지원'), lecture = Lecture.objects.get(title='정의란 무엇인가'))\n",
    "# Enrolment.objects.create(student = Student.objects.get(name='곽동령'), lecture = Lecture.objects.get(title='어떻게 원하는 것을 얻는가'))\n",
    "# Enrolment.objects.create(student = Student.objects.get(name='이유림'), lecture = Lecture.objects.get(title='어떻게 원하는 것을 얻는가'))"
   ]
  },
  {
   "cell_type": "code",
   "execution_count": 29,
   "metadata": {
    "scrolled": true
   },
   "outputs": [
    {
     "name": "stdout",
     "output_type": "stream",
     "text": [
      "강진우 : 정의란 무엇인가\n",
      "강진우 : 어떻게 원하는 것을 얻는가\n",
      "백지원 : 정의란 무엇인가\n",
      "곽동령 : 어떻게 원하는 것을 얻는가\n",
      "이유림 : 어떻게 원하는 것을 얻는가\n"
     ]
    }
   ],
   "source": [
    "for enrol in Enrolment.objects.all():\n",
    "    print(enrol.student.name,':', enrol.lecture.title)"
   ]
  },
  {
   "cell_type": "code",
   "execution_count": 35,
   "metadata": {},
   "outputs": [
    {
     "data": {
      "text/plain": [
       "'어떻게 원하는 것을 얻는가'"
      ]
     },
     "execution_count": 35,
     "metadata": {},
     "output_type": "execute_result"
    }
   ],
   "source": [
    "강진우 = Student.objects.get(name='강진우')\n",
    "수강신청1 = 강진우.enrolment_set.first()\n",
    "수강신청2 = 강진우.enrolment_set.last()\n",
    "\n",
    "수강신청1.lecture.title\n",
    "수강신청2.lecture.title"
   ]
  },
  {
   "cell_type": "code",
   "execution_count": 36,
   "metadata": {},
   "outputs": [],
   "source": [
    "# 수업 여러개 듣는 사람 1명을 student에 저장합니다.\n",
    "student = Student.objects.get(name='강진우')"
   ]
  },
  {
   "cell_type": "code",
   "execution_count": 39,
   "metadata": {},
   "outputs": [
    {
     "name": "stdout",
     "output_type": "stream",
     "text": [
      "정의란 무엇인가\n",
      "어떻게 원하는 것을 얻는가\n"
     ]
    }
   ],
   "source": [
    "# student의 수업의 제목을 출력하는 for 문을 작성해 보세요\n",
    "for 수강신청 in student.enrolment_set.all():\n",
    "    print(수강신청.lecture.title)"
   ]
  },
  {
   "cell_type": "code",
   "execution_count": 40,
   "metadata": {},
   "outputs": [
    {
     "name": "stdout",
     "output_type": "stream",
     "text": [
      "어떻게 원하는 것을 얻는가\n"
     ]
    }
   ],
   "source": [
    "# student의 수업들 중 제목이 n글자 넘는 수업의 제목을 출력\n",
    "for 수강신청 in student.enrolment_set.all():\n",
    "    if len(수강신청.lecture.title)>10:\n",
    "        print(수강신청.lecture.title)"
   ]
  },
  {
   "cell_type": "code",
   "execution_count": 64,
   "metadata": {},
   "outputs": [
    {
     "data": {
      "text/plain": [
       "<QuerySet [<Client: Client object (3)>, <Client: Client object (7)>]>"
      ]
     },
     "execution_count": 64,
     "metadata": {},
     "output_type": "execute_result"
    }
   ],
   "source": [
    "# Hotel.dummy(10)\n",
    "new_hotel = Hotel.objects.last()\n",
    "\n",
    "# new_hotel.clients.add(Client.objects.last())\n",
    "new_hotel.clients.add(\n",
    "    Client.objects.get(id = 3),\n",
    "    Client.objects.get(id = 5),\n",
    "    Client.objects.get(id = 7)\n",
    ")\n",
    "new_hotel.clients.all().filter(name__contains='h')"
   ]
  },
  {
   "cell_type": "code",
   "execution_count": 48,
   "metadata": {},
   "outputs": [
    {
     "data": {
      "text/plain": [
       "<QuerySet [{'id': 1, 'name': 'Kristin Rivera'}, {'id': 2, 'name': 'Richard Hurley'}, {'id': 3, 'name': 'Billy Murphy'}, {'id': 4, 'name': 'Daniel Turner'}, {'id': 5, 'name': 'Brian Kane'}, {'id': 6, 'name': 'Erik Smith'}, {'id': 7, 'name': 'Wesley Rich'}, {'id': 8, 'name': 'Timothy Mercado'}, {'id': 9, 'name': 'Robert Donaldson'}, {'id': 10, 'name': 'Melanie Jensen'}, {'id': 11, 'name': 'Marilyn Long'}]>"
      ]
     },
     "execution_count": 48,
     "metadata": {},
     "output_type": "execute_result"
    }
   ],
   "source": [
    "# Client.dummy(10)\n",
    "Client.objects.all().values('id','name')"
   ]
  },
  {
   "cell_type": "code",
   "execution_count": 46,
   "metadata": {},
   "outputs": [
    {
     "data": {
      "text/plain": [
       "0"
      ]
     },
     "execution_count": 46,
     "metadata": {},
     "output_type": "execute_result"
    }
   ],
   "source": [
    "Client.objects.last().hotel_set.count()"
   ]
  },
  {
   "cell_type": "code",
   "execution_count": 47,
   "metadata": {},
   "outputs": [],
   "source": [
    "# Hotel.dummy(1)\n",
    "# Client.dummy(1)"
   ]
  },
  {
   "cell_type": "code",
   "execution_count": 7,
   "metadata": {},
   "outputs": [
    {
     "data": {
      "text/plain": [
       "<QuerySet [<Hotel: Hotel object (1)>, <Hotel: Hotel object (2)>, <Hotel: Hotel object (11)>, <Hotel: Hotel object (4)>, <Hotel: Hotel object (6)>]>"
      ]
     },
     "execution_count": 7,
     "metadata": {},
     "output_type": "execute_result"
    }
   ],
   "source": [
    "client = Client.objects.get(id=3)\n",
    "client.hotels.all()"
   ]
  },
  {
   "cell_type": "code",
   "execution_count": 9,
   "metadata": {},
   "outputs": [
    {
     "data": {
      "text/plain": [
       "5"
      ]
     },
     "execution_count": 9,
     "metadata": {},
     "output_type": "execute_result"
    }
   ],
   "source": [
    "client = Client.objects.get(id=3)\n",
    "client.hotels.add(\n",
    "    Hotel.objects.get(id=2),\n",
    "    Hotel.objects.get(id=4),\n",
    "    Hotel.objects.get(id=6)\n",
    ")\n",
    "client.hotels.all().count()"
   ]
  },
  {
   "cell_type": "code",
   "execution_count": null,
   "metadata": {},
   "outputs": [],
   "source": []
  },
  {
   "cell_type": "code",
   "execution_count": null,
   "metadata": {},
   "outputs": [],
   "source": []
  }
 ],
 "metadata": {
  "kernelspec": {
   "display_name": "Django Shell-Plus",
   "language": "python",
   "name": "django_extensions"
  }
 },
 "nbformat": 4,
 "nbformat_minor": 2
}
