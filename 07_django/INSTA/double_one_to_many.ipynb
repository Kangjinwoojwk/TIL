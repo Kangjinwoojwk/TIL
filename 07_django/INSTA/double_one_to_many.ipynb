{
 "cells": [
  {
   "cell_type": "markdown",
   "metadata": {},
   "source": [
    "# One To Many model - 2\n",
    "\n",
    "## Writer\n",
    "\n",
    "| id(PK) | name      |\n",
    "| ------ | --------- |\n",
    "| INT    | CharField |\n",
    "\n",
    "## Article\n",
    "\n",
    "| id(PK) | author(FK-Writer) | title     | description |\n",
    "| ------ | ----------------- | --------- | ----------- |\n",
    "| INT    | INT               | CharField | TextField   |\n",
    "\n",
    "## Chapter\n",
    "\n",
    "| id(PK) | book_id(FK-Book) | title     | description |\n",
    "| ------ | ---------------- | --------- | ----------- |\n",
    "| INT    | INT              | CharField | TextField   |"
   ]
  },
  {
   "cell_type": "code",
   "execution_count": 1,
   "metadata": {},
   "outputs": [
    {
     "data": {
      "text/plain": [
       "<Writer: Writer object (2)>"
      ]
     },
     "execution_count": 1,
     "metadata": {},
     "output_type": "execute_result"
    }
   ],
   "source": [
    "# writer 객체 생성\n",
    "Writer.objects.create(name='이선 브라운')"
   ]
  },
  {
   "cell_type": "code",
   "execution_count": 3,
   "metadata": {},
   "outputs": [
    {
     "data": {
      "text/plain": [
       "<Book: Book object (3)>"
      ]
     },
     "execution_count": 3,
     "metadata": {},
     "output_type": "execute_result"
    }
   ],
   "source": [
    "# Book 객체 생성\n",
    "Book.objects.create(\n",
    "    author=Writer.objects.get(name='이선 브라운'),\n",
    "    title='러닝 자바스크립트',\n",
    "    description='ES6로 제대로 입문하는 모던 자바스크립트 웹개발'\n",
    ")"
   ]
  },
  {
   "cell_type": "code",
   "execution_count": 4,
   "metadata": {},
   "outputs": [
    {
     "data": {
      "text/plain": [
       "<Book: Book object (4)>"
      ]
     },
     "execution_count": 4,
     "metadata": {},
     "output_type": "execute_result"
    }
   ],
   "source": [
    "# Book 객체 생성\n",
    "Book.objects.create(\n",
    "    author=Writer.objects.get(name='이선 브라운'),\n",
    "    title='러닝 파이썬',\n",
    "    description='파이썬3.7로 제대로 입문하는 파이썬 개발'\n",
    ")"
   ]
  },
  {
   "cell_type": "code",
   "execution_count": 5,
   "metadata": {},
   "outputs": [
    {
     "data": {
      "text/plain": [
       "<Chapter: Chapter object (4)>"
      ]
     },
     "execution_count": 5,
     "metadata": {},
     "output_type": "execute_result"
    }
   ],
   "source": [
    "# Chapter 객체 생성\n",
    "Chapter.objects.create(\n",
    "    book=Book.objects.get(id=3),\n",
    "    title='FirstApp',\n",
    "    description='첫 앱'\n",
    ")\n",
    "Chapter.objects.create(\n",
    "    book=Book.objects.get(id=3),\n",
    "    title='개발 도구',\n",
    "    description='트랜스컴파일러'\n",
    ")\n",
    "Chapter.objects.create(\n",
    "    book=Book.objects.get(id=4),\n",
    "    title='Python 기초 문법',\n",
    "    description='변수, 문자열, 숫자, 참/거짓'\n",
    ")\n",
    "Chapter.objects.create(\n",
    "    book=Book.objects.get(id=4),\n",
    "    title='Python 자료 구조',\n",
    "    description='리스트, 튜플, 셋, 딕셔너리'\n",
    ")"
   ]
  },
  {
   "cell_type": "code",
   "execution_count": 19,
   "metadata": {},
   "outputs": [
    {
     "name": "stdout",
     "output_type": "stream",
     "text": [
      "러닝 자바스크립트\n",
      "러닝 파이썬\n"
     ]
    }
   ],
   "source": [
    "# 딕셔너리라는 챕터 설명이 있는 - 책의 저자가 - 쓴 모든 책\n",
    "for book in Chapter.objects.filter(description__contains='딕셔너리')[0].book.author.book_set.all():\n",
    "    print(book.title)"
   ]
  },
  {
   "cell_type": "code",
   "execution_count": 34,
   "metadata": {},
   "outputs": [
    {
     "data": {
      "text/plain": [
       "<QuerySet [<Book: Book object (3)>, <Book: Book object (4)>]>"
      ]
     },
     "execution_count": 34,
     "metadata": {},
     "output_type": "execute_result"
    }
   ],
   "source": [
    "# 책들 줄, DB에 2019년에 등록된 모든 책들 중에서 OFFSET 2, LIMIT 3\n",
    "Book.objects.all().filter(created_at__year=2019)[2:2 + 3]"
   ]
  },
  {
   "cell_type": "code",
   "execution_count": 36,
   "metadata": {},
   "outputs": [
    {
     "name": "stdout",
     "output_type": "stream",
     "text": [
      "SELECT \"onetomany_book\".\"id\", \"onetomany_book\".\"created_at\", \"onetomany_book\".\"modified\", \"onetomany_book\".\"author_id\", \"onetomany_book\".\"title\", \"onetomany_book\".\"description\" FROM \"onetomany_book\" WHERE \"onetomany_book\".\"created_at\" > 2018-12-31 23:59:59.999999  LIMIT 3 OFFSET 2\n"
     ]
    }
   ],
   "source": [
    "# 책들 중, DB에 2018년 이후에 등록된 모든 책들 중에서 OFFSET 2, LIMIT3\n",
    "print(Book.objects.filter(created_at__year__gt=2018)[2:5].query)"
   ]
  },
  {
   "cell_type": "code",
   "execution_count": 37,
   "metadata": {},
   "outputs": [
    {
     "name": "stdout",
     "output_type": "stream",
     "text": [
      "SELECT \"onetomany_book\".\"id\", \"onetomany_book\".\"created_at\", \"onetomany_book\".\"modified\", \"onetomany_book\".\"author_id\", \"onetomany_book\".\"title\", \"onetomany_book\".\"description\" FROM \"onetomany_book\"  LIMIT 2 OFFSET 1\n"
     ]
    }
   ],
   "source": [
    "print(Book.objects.all()[1:3].query)"
   ]
  },
  {
   "cell_type": "code",
   "execution_count": 38,
   "metadata": {},
   "outputs": [
    {
     "name": "stdout",
     "output_type": "stream",
     "text": [
      "SELECT \"onetomany_book\".\"id\", \"onetomany_book\".\"created_at\", \"onetomany_book\".\"modified\", \"onetomany_book\".\"author_id\", \"onetomany_book\".\"title\", \"onetomany_book\".\"description\" FROM \"onetomany_book\" WHERE \"onetomany_book\".\"author_id\" = 2\n"
     ]
    }
   ],
   "source": [
    "ORMquery = Chapter.objects.filter(description__contains='딕셔너리')[0].book.author.book_set.all()\n",
    "print(ORMquery.query)"
   ]
  },
  {
   "cell_type": "code",
   "execution_count": null,
   "metadata": {},
   "outputs": [],
   "source": []
  },
  {
   "cell_type": "code",
   "execution_count": null,
   "metadata": {},
   "outputs": [],
   "source": []
  }
 ],
 "metadata": {
  "kernelspec": {
   "display_name": "Django Shell-Plus",
   "language": "python",
   "name": "django_extensions"
  },
  "language_info": {
   "codemirror_mode": {
    "name": "ipython",
    "version": 3
   },
   "file_extension": ".py",
   "mimetype": "text/x-python",
   "name": "python",
   "nbconvert_exporter": "python",
   "pygments_lexer": "ipython3",
   "version": "3.7.3"
  }
 },
 "nbformat": 4,
 "nbformat_minor": 2
}
