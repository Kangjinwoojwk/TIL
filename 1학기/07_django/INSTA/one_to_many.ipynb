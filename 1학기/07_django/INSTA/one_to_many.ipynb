{
 "cells": [
  {
   "cell_type": "markdown",
   "metadata": {},
   "source": [
    "# One To Many model\n",
    "\n",
    "## Writer\n",
    "\n",
    "| id      | name      |\n",
    "| ------- | --------- |\n",
    "| PK, INT | CharField |\n",
    "\n",
    "## Article\n",
    "\n",
    "| id      | author          | title     | description |\n",
    "| ------- | --------------- | --------- | ----------- |\n",
    "| PK, INT | FK, Writer, INT | CharField | TextField   |"
   ]
  },
  {
   "cell_type": "code",
   "execution_count": 1,
   "metadata": {
    "scrolled": true
   },
   "outputs": [
    {
     "data": {
      "text/plain": [
       "<Writer: Writer object (1)>"
      ]
     },
     "execution_count": 1,
     "metadata": {},
     "output_type": "execute_result"
    }
   ],
   "source": [
    "Writer.objects.create(\n",
    "    name='박경리'\n",
    ")"
   ]
  },
  {
   "cell_type": "code",
   "execution_count": 2,
   "metadata": {},
   "outputs": [
    {
     "data": {
      "text/plain": [
       "<QuerySet [<Writer: Writer object (1)>]>"
      ]
     },
     "execution_count": 2,
     "metadata": {},
     "output_type": "execute_result"
    }
   ],
   "source": [
    "writer = Writer.objects.get(name='박경리') # 조건 만족하는 객체 1개만 return\n",
    "writers = Writer.objects.filter(name='박경리') # 조건을 만족하는 모든 객체 return\n",
    "writers[0].name\n",
    "parks_writers_family = Writer.objects.filter(name__contains='박')# magic 쿼리 박이 들어가면 다 나온다\n",
    "parks_writers_family"
   ]
  },
  {
   "cell_type": "code",
   "execution_count": 3,
   "metadata": {},
   "outputs": [
    {
     "data": {
      "text/plain": [
       "<Book: Book object (1)>"
      ]
     },
     "execution_count": 3,
     "metadata": {},
     "output_type": "execute_result"
    }
   ],
   "source": [
    "Book.objects.create(\n",
    "    author=Writer.objects.get(name = '박경리'),\n",
    "    title='토지',\n",
    "    description='최참판 일가와 이용 일가의 가족사를 중심으로 구한말부터 일제강점기를 지나 광복까지의 내용을 다루고 있으며, 모두 5부 16권의 분량으로 구성되어 있다.'\n",
    ")"
   ]
  },
  {
   "cell_type": "code",
   "execution_count": 4,
   "metadata": {},
   "outputs": [
    {
     "data": {
      "text/plain": [
       "<Book: Book object (2)>"
      ]
     },
     "execution_count": 4,
     "metadata": {},
     "output_type": "execute_result"
    }
   ],
   "source": [
    "Book.objects.create(\n",
    "    author=Writer.objects.get(name = '박경리'),\n",
    "    title='태백산맥',\n",
    "    description='해방 이후부터 한국전쟁때까지 치열했던 이념 대립과 민중들의 한(恨)을 묘사'\n",
    ")"
   ]
  },
  {
   "cell_type": "code",
   "execution_count": 7,
   "metadata": {},
   "outputs": [],
   "source": [
    "writer = Writer.objects.get(id=1)\n",
    "book1 = Book.objects.first()\n",
    "book2 = Book.objects.last()"
   ]
  },
  {
   "cell_type": "code",
   "execution_count": 5,
   "metadata": {},
   "outputs": [
    {
     "data": {
      "text/plain": [
       "'박경리'"
      ]
     },
     "execution_count": 5,
     "metadata": {},
     "output_type": "execute_result"
    }
   ],
   "source": [
    "writer.name"
   ]
  },
  {
   "cell_type": "code",
   "execution_count": 15,
   "metadata": {},
   "outputs": [
    {
     "data": {
      "text/plain": [
       "'박경리'"
      ]
     },
     "execution_count": 15,
     "metadata": {},
     "output_type": "execute_result"
    }
   ],
   "source": [
    "book1.author.name"
   ]
  },
  {
   "cell_type": "code",
   "execution_count": 9,
   "metadata": {},
   "outputs": [
    {
     "data": {
      "text/plain": [
       "'태백산맥'"
      ]
     },
     "execution_count": 9,
     "metadata": {},
     "output_type": "execute_result"
    }
   ],
   "source": [
    "book2.title"
   ]
  },
  {
   "cell_type": "code",
   "execution_count": 16,
   "metadata": {},
   "outputs": [
    {
     "data": {
      "text/plain": [
       "\"\\n'토지'를 너무 감명 깊게 봐서\\n이 책의 작가 이름을 찾는다\\n작가들 중에 그 이름을 가진 사람을 찾는다\\n책들 전체에서 그 작가의 책을 전부 가져온다\\n\""
      ]
     },
     "execution_count": 16,
     "metadata": {},
     "output_type": "execute_result"
    }
   ],
   "source": [
    "\"\"\"\n",
    "'토지'를 너무 감명 깊게 봐서\n",
    "이 책의 작가 이름을 찾는다\n",
    "작가들 중에 그 이름을 가진 사람을 찾는다\n",
    "책들 전체에서 그 작가의 책을 전부 가져온다\n",
    "\"\"\""
   ]
  },
  {
   "cell_type": "code",
   "execution_count": 19,
   "metadata": {},
   "outputs": [
    {
     "data": {
      "text/plain": [
       "<QuerySet [<Book: Book object (1)>, <Book: Book object (2)>]>"
      ]
     },
     "execution_count": 19,
     "metadata": {},
     "output_type": "execute_result"
    }
   ],
   "source": [
    "Book.objects.filter(author=Writer.objects.get(name=Book.objects.get(title='토지').author.name))"
   ]
  },
  {
   "cell_type": "code",
   "execution_count": 21,
   "metadata": {},
   "outputs": [],
   "source": [
    "favorite_book = Book.objects.get(title='토지')\n",
    "favorite_writer_name = favorite_book.author.name"
   ]
  },
  {
   "cell_type": "code",
   "execution_count": 22,
   "metadata": {},
   "outputs": [],
   "source": [
    "favorite_writer = Writer.objects.get(name=favorite_writer_name)\n",
    "# 내가 가장 좋아하는 작가님이 쓴책 다 가져와\n",
    "book_wish_list = Book.objects.filter(author=favorite_writer)"
   ]
  },
  {
   "cell_type": "code",
   "execution_count": 23,
   "metadata": {},
   "outputs": [
    {
     "data": {
      "text/plain": [
       "'태백산맥'"
      ]
     },
     "execution_count": 23,
     "metadata": {},
     "output_type": "execute_result"
    }
   ],
   "source": [
    "book_wish_list[1].title"
   ]
  },
  {
   "cell_type": "code",
   "execution_count": 24,
   "metadata": {},
   "outputs": [
    {
     "data": {
      "text/plain": [
       "'토지'"
      ]
     },
     "execution_count": 24,
     "metadata": {},
     "output_type": "execute_result"
    }
   ],
   "source": [
    "Book.objects.filter(description__contains='일제')[0].title"
   ]
  },
  {
   "cell_type": "code",
   "execution_count": 26,
   "metadata": {},
   "outputs": [
    {
     "name": "stdout",
     "output_type": "stream",
     "text": [
      "토지\n",
      "태백산맥\n"
     ]
    }
   ],
   "source": [
    "# 내가 좋아하는 작가님이 쓴책 전부 가져와\n",
    "for book in favorite_writer.book_set.all():\n",
    "    print(book.title)"
   ]
  }
 ],
 "metadata": {
  "kernelspec": {
   "display_name": "Django Shell-Plus",
   "language": "python",
   "name": "django_extensions"
  },
  "language_info": {
   "codemirror_mode": {
    "name": "ipython",
    "version": 3
   },
   "file_extension": ".py",
   "mimetype": "text/x-python",
   "name": "python",
   "nbconvert_exporter": "python",
   "pygments_lexer": "ipython3",
   "version": "3.7.3"
  }
 },
 "nbformat": 4,
 "nbformat_minor": 2
}
