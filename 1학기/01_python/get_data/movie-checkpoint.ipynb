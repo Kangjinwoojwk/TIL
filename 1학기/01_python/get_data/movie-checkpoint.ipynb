{
 "cells": [
  {
   "cell_type": "code",
   "execution_count": null,
   "metadata": {},
   "outputs": [],
   "source": [
    "URL=f'http://www.kobis.or.kr/kobisopenapi/webservice/rest/boxoffice/searchWeeklyBoxOfficeList.json?key={key}&targetDt=20190113&weekGb=0'\n"
   ]
  },
  {
   "cell_type": "code",
   "execution_count": null,
   "metadata": {
    "scrolled": true
   },
   "outputs": [],
   "source": [
    "import requests\n",
    "data = requests.get(URL).json()\n",
    "data = data['boxOfficeResult']['weeklyBoxOfficeList']\n",
    "print(data)"
   ]
  },
  {
   "cell_type": "code",
   "execution_count": null,
   "metadata": {},
   "outputs": [],
   "source": [
    "type(data)"
   ]
  },
  {
   "cell_type": "code",
   "execution_count": null,
   "metadata": {
    "scrolled": true
   },
   "outputs": [],
   "source": [
    "import datetime\n",
    "import requests\n",
    "f_output={\n",
    "    'movie_code':['movie_code','title','audience','recorded_at']\n",
    "}\n",
    "date = datetime.datetime(2019, 1, 13)\n",
    "\n",
    "for z in range(1,11):\n",
    "    dt = str(date.year)\n",
    "    if date.month < 10:\n",
    "        dt += '0'\n",
    "    dt += str(date.month)\n",
    "    if date.day < 10:\n",
    "        dt += '0'\n",
    "    dt += str(date.day)\n",
    "    key=\n",
    "    URL=f'http://www.kobis.or.kr/kobisopenapi/webservice/rest/boxoffice/searchWeeklyBoxOfficeList.json?key={key}&targetDt={dt}&weekGb=0'\n",
    "    data = requests.get(URL).json()\n",
    "    data = data['boxOfficeResult']['weeklyBoxOfficeList']\n",
    "    for data_list in data:\n",
    "        if data_list['movieCd'] not in f_output:\n",
    "            f_output[data_list['movieCd']] = [data_list['movieCd'], data_list['movieNm'], data_list['audiAcc'], dt]\n",
    "            \n",
    "    date = date - datetime.timedelta(days=7)\n",
    "print(f_output)"
   ]
  },
  {
   "cell_type": "code",
   "execution_count": null,
   "metadata": {
    "scrolled": true
   },
   "outputs": [],
   "source": [
    "import csv\n",
    "f_w = open('boxoffice.csv','w+',encoding='utf-8',newline='')\n",
    "writer = csv.writer(f_w)\n",
    "for value in f_output.values():\n",
    "    print(value)\n",
    "    writer.writerow(\n",
    "        value\n",
    "    )\n",
    "f_w.close()"
   ]
  },
  {
   "cell_type": "code",
   "execution_count": null,
   "metadata": {
    "scrolled": true
   },
   "outputs": [],
   "source": [
    "import requests\n",
    "key=\n",
    "URL = f'http://www.kobis.or.kr/kobisopenapi/webservice/rest/movie/searchMovieInfo.json?key={key}&movieCd=20186281'\n",
    "data = requests.get(URL).json()\n",
    "data = data['movieInfoResult']['movieInfo']\n",
    "data"
   ]
  },
  {
   "cell_type": "code",
   "execution_count": null,
   "metadata": {},
   "outputs": [],
   "source": [
    "a={\n",
    "    'a':[1, 2, 3]\n",
    "}\n",
    "try:\n",
    "    \n",
    "except KeyError:\n",
    "    "
   ]
  },
  {
   "cell_type": "code",
   "execution_count": 19,
   "metadata": {},
   "outputs": [
    {
     "name": "stdout",
     "output_type": "stream",
     "text": [
      "20184105\n",
      "20176251\n",
      "20189463\n",
      "20180290\n",
      "20183915\n",
      "20185485\n",
      "20184574\n",
      "20186281\n",
      "20170658\n",
      "20175547\n",
      "20183785\n",
      "20184187\n",
      "20182421\n",
      "20168773\n",
      "20183479\n",
      "20183238\n",
      "20177552\n",
      "20179230\n",
      "20183375\n",
      "20189843\n",
      "20182082\n",
      "20178825\n",
      "20183745\n",
      "20177538\n",
      "20184481\n",
      "20181905\n",
      "20176814\n",
      "20183073\n",
      "20181171\n",
      "20183007\n",
      "20182966\n",
      "20183050\n",
      "20182935\n",
      "20182669\n",
      "20186822\n",
      "20170513\n",
      "20189869\n",
      "20174981\n",
      "20010291\n",
      "20179006\n",
      "20181404\n",
      "20180523\n",
      "20182693\n",
      "['movie_code', 'movie_name_ko', 'movie_name_en', 'movie_name_og', 'prdt_year', 'showTm', 'genres', 'directors', 'watch_grade_nm', 'actor1', 'actor2', 'actor3']\n",
      "['20184105', '말모이', '', '2018', '135', '드라마', '엄유나', '12세이상관람가', '유해진', '윤계상', '김홍파']\n",
      "['20176251', '내안의 그놈', '', '2018', '122', '판타지', '강효진', '15세이상관람가', '박성웅', '진영', '라미란']\n",
      "['20189463', '주먹왕 랄프 2: 인터넷 속으로', '', '2018', '112', '애니메이션', '리치 무어', '전체관람가', '존 C. 라일리', '사라 실버맨', '맨디 무어']\n",
      "['20180290', '아쿠아맨', '', '2018', '143', '액션', '제임스 완', '12세이상관람가', '제이슨 모모아', '앰버 허드', '니콜 키드먼']\n",
      "['20183915', '극장판 공룡메카드: 타이니소어의 섬', '', '2018', '70', '애니메이션', '최신규', '전체관람가']\n",
      "['20185485', '보헤미안 랩소디', '', '2018', '134', '드라마', '브라이언 싱어', '12세이상관람가', '레미 맬렉', '조셉 마젤로', '마이크 마이어스']\n",
      "['20184574', '그린 북', '', '2018', '130', '드라마', '피터 패럴리', '12세이상관람가', '비고 모텐슨', '마허샬라 알리']\n",
      "['20186281', '범블비', '', '2018', '113', '액션', '트래비스 나이트', '12세이상관람가', '헤일리 스테인펠드', '파멜라 애들론', '존 시나']\n",
      "['20170658', 'PMC: 더 벙커', '', '2018', '124', '액션', '김병우', '15세이상관람가', '하정우', '이선균', '제니퍼 엘']\n",
      "['20175547', '스윙키즈', '', '2018', '133', '드라마', '강형철', '12세이상관람가', '도경수', '박혜수', '자레드 그라임스']\n",
      "['20183785', '점박이 한반도의 공룡2 : 새로운 낙원', '', '2018', '93', '애니메이션', '한상호', '전체관람가', '박희순', '라미란', '김성균']\n",
      "['20184187', '언니', '', '2018', '93', '액션', '임경택', '청소년관람불가', '이시영', '박세완', '이준혁']\n",
      "['20182421', '그린치', '', '2018', '89', '애니메이션', '스콧 모시어', '전체관람가', '베네딕트 컴버배치']\n",
      "['20168773', '마약왕', '', '2017', '139', '범죄', '우민호', '청소년관람불가', '송강호', '조정석', '배두나']\n",
      "['20183479', '극장판 짱구는 못말려: 아뵤! 쿵후 보이즈 ~라면 대란~', '', '2018', '103', '애니메이션', '타카하시 와타루', '전체관람가', '박영남', '강희선', '김환진']\n",
      "['20183238', '스파이더맨: 뉴 유니버스', '', '2018', '116', '애니메이션', '밥 퍼시케티', '12세이상관람가', '샤메익 무어', '헤일리 스테인펠드', '니콜라스 케이지']\n",
      "['20177552', '국가부도의 날', '', '2018', '114', '드라마', '최국희', '12세이상관람가', '김혜수', '유아인', '허준호']\n",
      "['20179230', '도어락', '', '2018', '101', '스릴러', '이권', '15세이상관람가', '공효진', '김예원', '김성오']\n",
      "['20183375', '극장판 포켓몬스터 모두의 이야기', '劇場版ポケットモンスター みんなの物語', '2018', '98', '애니메이션', '야지마 테츠오', '전체관람가']\n",
      "['20189843', '호두까기 인형과 4개의 왕국', '', '2018', '99', '판타지', '라세 할스트롬', '전체관람가', '키이라 나이틀리', '매켄지 포이', '헬렌 미렌']\n",
      "['20182082', '부탁 하나만 들어줘', '', '2018', '116', '스릴러', '폴 페이그', '청소년관람불가', '블레이크 라이블리', '안나 켄드릭', '헨리 골딩']\n",
      "['20178825', '모털 엔진', '', '2018', '128', '액션', '크리스찬 리버스', '12세이상관람가', '헤라 힐마', '로버트 시한', '휴고 위빙']\n",
      "['20183745', '런닝맨 : 풀룰루의 역습', '', '2018', '66', '애니메이션', '윤준상', '전체관람가', '김서영', '권창욱', '엄상현']\n",
      "['20177538', '완벽한 타인', '', '2018', '115', '드라마', '이재규', '15세이상관람가', '유해진', '조진웅', '이서진']\n",
      "['20184481', '성난황소', '', '2018', '115', '범죄', '김민호', '15세이상관람가', '마동석', '송지효', '김성오']\n",
      "['20181905', '후드', '', '2018', '116', '어드벤처', '오토 바서스트', '12세이상관람가', '태런 에저튼', '제이미 폭스', '벤 멘델슨']\n",
      "['20176814', '신비한 동물들과 그린델왈드의 범죄', 'FANTASTIC BEASTS THE CRIMES OF GRINDELWALD', '2018', '133', '판타지', '데이빗 예이츠', '12세이상관람가', '에디 레드메인', '캐서린 워터스턴', '앨리슨 수돌']\n",
      "['20183073', '베일리 어게인', '', '2017', '100', '어드벤처', '라세 할스트롬', '전체관람가', '조시 게드', '데니스 퀘이드', '브릿 로버트슨']\n",
      "['20181171', '바울', '', '2018', '107', '드라마', '앤드류 하얏트', '15세이상관람가', '제임스 폴크너', '제임스 카비젤']\n",
      "['20183007', '거미줄에 걸린 소녀', '', '2018', '115', '액션', '페드 알바레즈', '15세이상관람가', '클레어 포이', '실비아 획스', '스베리르 구드나손']\n",
      "['20182966', '투 프렌즈', '', '2018', '74', '애니메이션', '빅터 아즈에프', '전체관람가']\n",
      "['20183050', '번 더 스테이지: 더 무비', '', '2018', '82', '기타', '박준수', '전체관람가', '김남준', '김석진', '민윤기']\n",
      "['20182935', '출국', '', '2018', '104', '드라마', '노규엽', '15세이상관람가', '이범수', '연우진', '박혁권']\n",
      "['20182669', '툴리', '', '2018', '95', '드라마', '제이슨 라이트맨', '15세이상관람가', '샤를리즈 테론', '맥켄지 데이비스', '마크 듀플라스']\n",
      "['20186822', '너의 췌장을 먹고 싶어', '君の膵臓をたべたい', '2018', '109', '애니메이션', '우시지마 신이치로', '12세이상관람가', '타카스기 마히로', '린', '후지이 유키요']\n",
      "['20170513', '동네사람들', '', '2018', '99', '액션', '임진순', '15세이상관람가', '마동석', '김새론', '이상엽']\n",
      "['20189869', '해피 투게더', '', '2018', '110', '드라마', '김정환', '12세이상관람가', '박성웅', '송새벽', '최로운']\n",
      "['20174981', '창궐', '', '2018', '121', '사극', '김성훈', '15세이상관람가', '현빈', '장동건', '조우진']\n",
      "['20010291', '해리포터와 마법사의 돌', '', '2001', '152', '가족', '크리스 콜럼버스', '전체관람가', '다니엘 래드클리프', '엠마 왓슨', '루퍼트 그린트']\n",
      "['20179006', '여곡성', '', '2018', '94', '공포(호러)', '유영선', '15세이상관람가', '홍예리', '서영희', '손나은']\n",
      "['20181404', '벽 속에 숨은 마법시계', '', '2018', '105', '판타지', '일라이 로스', '전체관람가', '잭 블랙', '케이트 블란쳇', '오웬 바카로']\n",
      "['20180523', '스타 이즈 본', '', '2018', '135', '드라마', '브래들리 쿠퍼', '15세이상관람가', '브래들리 쿠퍼', '레이디 가가', '샘 엘리엇']\n",
      "['20182693', '구스범스: 몬스터의 역습', '', '2018', '89', '판타지', '아리 산델', '12세이상관람가', '잭 블랙', '켄 정']\n"
     ]
    }
   ],
   "source": [
    "import requests\n",
    "import csv\n",
    "\n",
    "f_output={\n",
    "    'movie_code':['movie_code','movie_name_ko','movie_name_en','movie_name_og','prdt_year','showTm','genres','directors','watch_grade_nm','actor1','actor2','actor3']\n",
    "}\n",
    "key=\n",
    "f_r = open('boxoffice.csv','r',encoding='utf-8', newline='')\n",
    "reader = csv.reader(f_r)\n",
    "for line in reader:\n",
    "    if line[0]=='movie_code':\n",
    "        continue\n",
    "    URL = f'http://www.kobis.or.kr/kobisopenapi/webservice/rest/movie/searchMovieInfo.json?key={key}&movieCd={line[0]}'\n",
    "    data = requests.get(URL).json()\n",
    "    data = data['movieInfoResult']['movieInfo']\n",
    "    print(line[0])\n",
    "    li=[data['movieCd'], data['movieNm'], data['movieNmOg'], data['prdtYear'], data['showTm'], data['genres'][0]['genreNm'],data['directors'][0]['peopleNm'],data['audits'][0]['watchGradeNm']]\n",
    "    data = data['actors']\n",
    "    i = 0\n",
    "    for person in data:\n",
    "        if(i==3):\n",
    "            continue\n",
    "        else:\n",
    "            li.append(data[i]['peopleNm'])\n",
    "            i += 1\n",
    "    f_output[line[0]]=li\n",
    "f_r.close()\n",
    "f_w = open('movie.csv','w+',encoding='utf-8',newline='')\n",
    "writer = csv.writer(f_w)\n",
    "for value in f_output.values():\n",
    "    print(value)\n",
    "    writer.writerow(\n",
    "        value\n",
    "    )\n",
    "f_w.close()\n",
    "    \n"
   ]
  },
  {
   "cell_type": "code",
   "execution_count": null,
   "metadata": {},
   "outputs": [],
   "source": [
    "import requests\n",
    "import csv\n",
    "f_output={\n",
    "    'movie_code':['movie_code','thumb_url','link_url','user_rating']\n",
    "}\n",
    "client_id = \n",
    "client_secret = \n",
    "headers = {\n",
    "    'X-Naver-Client-Id':client_id,\n",
    "    'X-Naver-Client-Secret':client_secret\n",
    "}\n",
    "naver_uri = 'https://openapi.naver.com/v1/search/movie.json?query='\n",
    "f_r = open('movie.csv','r',encoding='utf-8', newline='')\n",
    "reader = csv.reader(f_r)\n",
    "for line in reader:\n",
    "    if line[0]=='movie_code':\n",
    "        continue\n",
    "    data = requests.get(naver_uri + line[1], headers=headers).json()\n",
    "    data = data['items'][0]\n",
    "    f_output[line[0]]=[line[0], data['image'], data['link'], data['userRating']]\n",
    "f_r.close()\n",
    "f_w = open('movie_naver.csv','w+',encoding='utf-8',newline='')\n",
    "writer = csv.writer(f_w)\n",
    "for value in f_output.values():\n",
    "    print(value)\n",
    "    writer.writerow(\n",
    "        value\n",
    "    )\n",
    "f_w.close()"
   ]
  },
  {
   "cell_type": "code",
   "execution_count": 23,
   "metadata": {},
   "outputs": [],
   "source": [
    "import requests\n",
    "import csv\n",
    "import urllib.request\n",
    "import os\n",
    "dirname = 'images'\n",
    "if not os.path.isdir('./'+dirname+'/'):\n",
    "    os.mkdir('./'+dirname+'/')\n",
    "f_r = open('movie_naver.csv','r',encoding='utf-8', newline='')\n",
    "reader = csv.reader(f_r)\n",
    "for line in reader:\n",
    "    if line[0]=='movie_code':\n",
    "        continue\n",
    "    urllib.request.urlretrieve(line[1], f'images/{line[0]}.jpg')\n",
    "f_r.close()"
   ]
  },
  {
   "cell_type": "code",
   "execution_count": null,
   "metadata": {},
   "outputs": [],
   "source": [
    "import requests\n",
    "import csv\n",
    "f_r = open('ss3.csv','r',encoding='utf-8', newline='')\n",
    "reader = csv.reader(f_r)\n",
    "for line in reader:\n",
    "    print(line)"
   ]
  },
  {
   "cell_type": "code",
   "execution_count": null,
   "metadata": {},
   "outputs": [],
   "source": [
    "results = {\n",
    "    data[0]['rank']:data[0]['movieNm'],\n",
    "    data[1]['rank']:data[1]['movieNm'],\n",
    "    data[2]['rank']:data[2]['movieNm'],\n",
    "    data[3]['rank']:data[3]['movieNm'],\n",
    "    data[4]['rank']:data[4]['movieNm']\n",
    "}\n",
    "\n",
    "results"
   ]
  },
  {
   "cell_type": "code",
   "execution_count": null,
   "metadata": {},
   "outputs": [],
   "source": [
    "import datetime\n",
    "date = datetime.datetime(2019, 1, 13)\n",
    "dt = str(date.year)\n",
    "if date.month < 10:\n",
    "    dt += '0'\n",
    "dt += str(date.month)+str(date.day)"
   ]
  },
  {
   "cell_type": "code",
   "execution_count": null,
   "metadata": {},
   "outputs": [],
   "source": []
  }
 ],
 "metadata": {
  "kernelspec": {
   "display_name": "Python 3",
   "language": "python",
   "name": "python3"
  },
  "language_info": {
   "codemirror_mode": {
    "name": "ipython",
    "version": 3
   },
   "file_extension": ".py",
   "mimetype": "text/x-python",
   "name": "python",
   "nbconvert_exporter": "python",
   "pygments_lexer": "ipython3",
   "version": "3.6.7"
  }
 },
 "nbformat": 4,
 "nbformat_minor": 2
}
