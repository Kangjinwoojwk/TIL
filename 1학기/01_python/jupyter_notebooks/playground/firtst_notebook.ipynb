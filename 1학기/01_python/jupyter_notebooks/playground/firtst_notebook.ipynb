{
 "cells": [
  {
   "cell_type": "code",
   "execution_count": null,
   "metadata": {},
   "outputs": [],
   "source": [
    "last_name = 'Kang'\n",
    "first_name = 'jinwoo'"
   ]
  },
  {
   "cell_type": "code",
   "execution_count": null,
   "metadata": {},
   "outputs": [],
   "source": [
    "last_name + first_name"
   ]
  },
  {
   "cell_type": "code",
   "execution_count": null,
   "metadata": {},
   "outputs": [],
   "source": [
    "2 ** 15"
   ]
  },
  {
   "cell_type": "code",
   "execution_count": null,
   "metadata": {},
   "outputs": [],
   "source": [
    "full_name = last_name + first_name\n",
    "full_name"
   ]
  },
  {
   "cell_type": "code",
   "execution_count": 6,
   "metadata": {},
   "outputs": [
    {
     "name": "stdout",
     "output_type": "stream",
     "text": [
      "공약수와 공배수를 구하고 싶은 수:42\n",
      "공약수와 공배수를 구하고 싶은 수:35\n",
      "공약수는  7 이고 공배수는  210.0 입니다.\n"
     ]
    }
   ],
   "source": [
    "num = input(\"공약수와 공배수를 구하고 싶은 수:\")\n",
    "num1 = int(num)\n",
    "num = input(\"공약수와 공배수를 구하고 싶은 수:\")\n",
    "num2 = int(num)\n",
    "lcn = num1 * num2\n",
    "while(num2 != 0):\n",
    "    num1 = num1 % num2\n",
    "    temp = num1\n",
    "    num1 = num2\n",
    "    num2 = temp\n",
    "gcd = num1\n",
    "lcn = lcn / gcd\n",
    "print(\"공약수는 \", gcd, \"이고 공배수는 \", lcn,\"입니다.\")"
   ]
  },
  {
   "cell_type": "code",
   "execution_count": null,
   "metadata": {},
   "outputs": [],
   "source": []
  }
 ],
 "metadata": {
  "kernelspec": {
   "display_name": "Python 3",
   "language": "python",
   "name": "python3"
  },
  "language_info": {
   "codemirror_mode": {
    "name": "ipython",
    "version": 3
   },
   "file_extension": ".py",
   "mimetype": "text/x-python",
   "name": "python",
   "nbconvert_exporter": "python",
   "pygments_lexer": "ipython3",
   "version": "3.6.7"
  }
 },
 "nbformat": 4,
 "nbformat_minor": 2
}
