{
 "cells": [
  {
   "cell_type": "markdown",
   "metadata": {},
   "source": [
    "1-1아니오\n",
    "1-2아니오\n",
    "1-3예\n",
    "1-4예\n",
    "2-1현재 디렉토리에 있는 파일, 폴더에 대한 정보를 출력한다.\n",
    "2-2디렉토리를 변경한다. 기본적으로 현재 디렉토리의 아래 있는 곳에 갈 수 있다.\n",
    "~를 쓰면 홈으로 /를 쓰면 루트로 갈 수 있다.\n",
    "2-3디렉토리를 만든다.\n",
    "3앞부분을 누르고 탭을 누르면 자동완성이 됩니다. 오타로 인한 에러를 줄일 수 있습니다."
   ]
  },
  {
   "cell_type": "code",
   "execution_count": null,
   "metadata": {},
   "outputs": [],
   "source": [
    "import keyword\n",
    "keyword.kwlist"
   ]
  },
  {
   "cell_type": "markdown",
   "metadata": {},
   "source": [
    "['False',\n",
    " 'None',\n",
    " 'True',\n",
    " 'and',\n",
    " 'as',\n",
    " 'assert',\n",
    " 'break',\n",
    " 'class',\n",
    " 'continue',\n",
    " 'def',\n",
    " 'del',\n",
    " 'elif',\n",
    " 'else',\n",
    " 'except',\n",
    " 'finally',\n",
    " 'for',\n",
    " 'from',\n",
    " 'global',\n",
    " 'if',\n",
    " 'import',\n",
    " 'in',\n",
    " 'is',\n",
    " 'lambda',\n",
    " 'nonlocal',\n",
    " 'not',\n",
    " 'or',\n",
    " 'pass',\n",
    " 'raise',\n",
    " 'return',\n",
    " 'try',\n",
    " 'while',\n",
    " 'with',\n",
    " 'yield']"
   ]
  },
  {
   "cell_type": "code",
   "execution_count": 2,
   "metadata": {},
   "outputs": [
    {
     "name": "stdout",
     "output_type": "stream",
     "text": [
      "True\n"
     ]
    }
   ],
   "source": [
    "a = 0.1 * 3\n",
    "b = 0.3\n",
    "a = round(a, 10)\n",
    "print(a == b)"
   ]
  },
  {
   "cell_type": "code",
   "execution_count": 5,
   "metadata": {},
   "outputs": [
    {
     "name": "stdout",
     "output_type": "stream",
     "text": [
      "\n",
      "\t\\\n"
     ]
    }
   ],
   "source": [
    "print('\\n\\t\\\\')"
   ]
  },
  {
   "cell_type": "code",
   "execution_count": 10,
   "metadata": {},
   "outputs": [
    {
     "name": "stdout",
     "output_type": "stream",
     "text": [
      "\"안녕, 철수야\"\n"
     ]
    }
   ],
   "source": [
    "name = '철수'\n",
    "print(f'\"안녕, {name}야\"')"
   ]
  },
  {
   "cell_type": "code",
   "execution_count": 11,
   "metadata": {
    "scrolled": true
   },
   "outputs": [
    {
     "ename": "SyntaxError",
     "evalue": "invalid character in identifier (<ipython-input-11-38bca315ad55>, line 1)",
     "output_type": "error",
     "traceback": [
      "\u001b[1;36m  File \u001b[1;32m\"<ipython-input-11-38bca315ad55>\"\u001b[1;36m, line \u001b[1;32m1\u001b[0m\n\u001b[1;33m    int(‘3.5’)\u001b[0m\n\u001b[1;37m         ^\u001b[0m\n\u001b[1;31mSyntaxError\u001b[0m\u001b[1;31m:\u001b[0m invalid character in identifier\n"
     ]
    }
   ],
   "source": [
    "5번int(‘3.5’)\n"
   ]
  },
  {
   "cell_type": "code",
   "execution_count": 4,
   "metadata": {},
   "outputs": [
    {
     "name": "stdout",
     "output_type": "stream",
     "text": [
      "0 (1, 2)\n",
      "1 2\n",
      "2 3\n"
     ]
    }
   ],
   "source": [
    "#homework05 함수1, 2\n",
    "def List(my_list) :\n",
    "    for index, i in enumerate(my_list) :\n",
    "        print(index, i)\n",
    "List([(1,2), 2, 3])"
   ]
  },
  {
   "cell_type": "markdown",
   "metadata": {},
   "source": [
    "#3\n",
    "key : for key in my_dict.keys():\n",
    "value : for value in my_dict.values():\n",
    "key와 value : for key, value in my_dict.items():\n",
    "\n"
   ]
  },
  {
   "cell_type": "markdown",
   "metadata": {},
   "source": [
    "#4\n",
    "none"
   ]
  },
  {
   "cell_type": "markdown",
   "metadata": {},
   "source": [
    "# homework 06 함수"
   ]
  },
  {
   "cell_type": "markdown",
   "metadata": {},
   "source": [
    "## 1.  우리가 이제까지 활용했던 print는 내장 함수(built-in function)입니다. 배웠던 내장 함수 중 5개만 나열해보세요\n",
    "\n",
    "input()\n",
    "\n",
    "sorted()\n",
    "\n",
    "int()\n",
    "\n",
    "str()\n",
    "\n",
    "list()\n",
    "\n",
    "set()\n",
    "\n",
    "dict()\n",
    "\n",
    ".\n",
    "\n",
    ".\n",
    "\n",
    ".\n",
    "\n"
   ]
  },
  {
   "cell_type": "markdown",
   "metadata": {},
   "source": [
    "## 2. 다음 중 틀린 것은?   1\n",
    "\n",
    "(1) 함수는 오직 하나의 객체만 반환할 수 있어서, return a, b 처럼 쓸 수 없다.  X\n",
    "\n",
    "(2) 함수에서 return을 작성하지 않으면 None 값을 반환한다.\n",
    "\n",
    "(3) 함수의 인자(parameter)는 함수 선언시 설정한 값이며, 인수(argument)는 함수 호출시 넘겨주는 값이다.\n",
    "\n",
    "(4) 가변 인자를 설정할 때는 인자 앞에서 *을 붙이고, 이때는 함수 내에서 tuple로 처리된다.\n",
    "\n",
    "(5) 파이썬 활용되는 ‘스코프(scope)’ 룰에 따르면 변수에서 값을 Local scope -> Global scope -> Built-in scope 순으로 찾는다.\n"
   ]
  },
  {
   "cell_type": "markdown",
   "metadata": {},
   "source": [
    "## 3. 3. 함수의 인자 기본 값을 설정을 활용하여 곱셈의 결과를 반환하는 my_mul을 만들어주세요.\n",
    "\n",
    "예시 호출1) my_mul(6)\n",
    "\n",
    "예시 결과1) 6\n",
    "\n",
    "예시 호출2) my_mul(3, 5)\n",
    "\n",
    "예시 결과2) 15\n"
   ]
  },
  {
   "cell_type": "code",
   "execution_count": 2,
   "metadata": {},
   "outputs": [
    {
     "name": "stdout",
     "output_type": "stream",
     "text": [
      "6\n",
      "15\n"
     ]
    }
   ],
   "source": [
    "def my_mul(a, b = 1) :\n",
    "    return a * b\n",
    "print(my_mul(6))\n",
    "print(my_mul(15))"
   ]
  },
  {
   "cell_type": "markdown",
   "metadata": {},
   "source": [
    "## homework 07\n",
    "> 객체지향 프로그래밍"
   ]
  },
  {
   "cell_type": "markdown",
   "metadata": {},
   "source": [
    "1.\n",
    "list\n",
    "tuple\n",
    "dict\n",
    "str\n",
    "set"
   ]
  },
  {
   "cell_type": "markdown",
   "metadata": {},
   "source": [
    " 2. 다음 중 틀린 것은?\n",
    "(1) 클래스 내에 정의된 멤버 함수는 ‘메서드(method)’라고 부른다.\n",
    "\n",
    "(2) 클래스는 선언과 동시에 클래스 객체가 생성되며, 인스턴스 객체를 만들면 클래스에서 선언된 메서드를 활용할 수 있다.\n",
    "\n",
    "(3) isinstance(인스턴스 객체, 클래스 객체)를 활용하면 상속 관계까지 확인 가능하다.\n",
    "\n",
    "(4) 생성자는 인스턴트 객체가 생성될 때 자동으로 호출된다.\n",
    "\n",
    "(5) 숫자 5는 그냥 숫자일 뿐 클래스가 없다.\n"
   ]
  },
  {
   "cell_type": "markdown",
   "metadata": {},
   "source": [
    "## homwork 08\n",
    "> Web, Flask"
   ]
  },
  {
   "cell_type": "markdown",
   "metadata": {},
   "source": [
    "1. Web에서의 커뮤니케이션 방식은 ____(a)____과(와) ____(b)____(으)로 이루어져 있다. 브라우저의 주소창에 주 소를 입력하는 것으로 ____(a)____을(를) 보내며, 그에 대한 ____(b)____(으)로 HTML, XML, JSON 등의 문서 를 보내준다. 각각 (a)와 (b)에 들어갈 말을 작성하시오."
   ]
  },
  {
   "cell_type": "markdown",
   "metadata": {},
   "source": [
    "a:요청\n",
    "b:응답"
   ]
  },
  {
   "cell_type": "markdown",
   "metadata": {},
   "source": [
    "2. Flaks Web Framework는 Python에 내장되어 있는 모듈이 아니므로 별도의 설치가 필요하다. Flask를 설치 하기 위하여 bash에서 어떤 명령어를 입력해야 하는지 작성하시오.\n"
   ]
  },
  {
   "cell_type": "markdown",
   "metadata": {},
   "source": [
    "pip install Flask"
   ]
  },
  {
   "cell_type": "markdown",
   "metadata": {},
   "source": [
    "3. 다음은 가장 기본적인 구조의 Flask 코드이다. (a)에 들어갈 코드를 작성하고, 이 코드가 의미하는 것을 설명 하시오."
   ]
  },
  {
   "cell_type": "markdown",
   "metadata": {},
   "source": [
    "from flask import Flask"
   ]
  },
  {
   "cell_type": "markdown",
   "metadata": {},
   "source": [
    "4. 3번 문제에 작성된 Flask 코드가 app.py라는 이름으로 저장되어 있으며 bash의 현재 위치는 app.py가 있는 곳과 동일하다. 이 때, Flask 서버를 실행하기 위하여 어떤 명령어를 입력해야 하는지 작성하시오.\n"
   ]
  },
  {
   "cell_type": "markdown",
   "metadata": {},
   "source": [
    "flask run"
   ]
  },
  {
   "cell_type": "markdown",
   "metadata": {},
   "source": [
    "1. HTML 은무엇의 약자인가? [  3 ]\n",
    "\n",
    "(1) Hyperlinks and Text Markup Language\n",
    "\n",
    "(2) HomeTool Markup Language\n",
    "\n",
    "(3) HyperText Markup Language\n",
    "\n",
    "(4) HyperTool Markup Language\n"
   ]
  },
  {
   "cell_type": "markdown",
   "metadata": {},
   "source": [
    "2. 다음중맞으면 T, 틀리면 F 를기입 하시오.\n",
    "\n",
    "〮웹표준을 만드는 곳은 Mozilla 재단이다. [   F ]\n",
    "\n",
    "〮표(table) 을만들 때에는 반드시 <th> 태그를 사용해야 한다. [  F  ]\n",
    "\n",
    "〮제목(Heading) 태그는 제목 이외에는 사용하지 않는 것이 좋다. [  T  ]\n",
    "\n",
    "〮인용문을 가리키는 태그는 <blockquote> 이다. [  T  ]"
   ]
  },
  {
   "cell_type": "markdown",
   "metadata": {},
   "source": [
    "3. 보기중콘텐츠의 의미를 명확히 하기 위해 HTML5 에서 새롭게 추가된 시맨틱(semantic) 태그를 모두 선택 하시오.article, footer, nav, head\n",
    "\n",
    "[ article, div, footer, nav, head, container ]\n"
   ]
  },
  {
   "cell_type": "markdown",
   "metadata": {},
   "source": [
    "4. 아래이미지와 같은 로그인 화면을 생성하는 html 코드를 작성하시오.\n",
    "\n",
    "<form>\n",
    "  ID:<input type=\"text\" name=\"username\" value=\"Mickey\">\n",
    "  <br>\n",
    "  PWD:<input type=\"password\" name=\"password\" value=\"Mouse\"> <input type=\"submit\" value=\"로그인\">\n",
    "</form> "
   ]
  }
 ],
 "metadata": {
  "kernelspec": {
   "display_name": "Python 3",
   "language": "python",
   "name": "python3"
  },
  "language_info": {
   "codemirror_mode": {
    "name": "ipython",
    "version": 3
   },
   "file_extension": ".py",
   "mimetype": "text/x-python",
   "name": "python",
   "nbconvert_exporter": "python",
   "pygments_lexer": "ipython3",
   "version": "3.6.7"
  }
 },
 "nbformat": 4,
 "nbformat_minor": 2
}
